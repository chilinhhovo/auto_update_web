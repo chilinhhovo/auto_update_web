{
 "cells": [
  {
   "cell_type": "markdown",
   "metadata": {},
   "source": [
    "# Community full board scrapper \n",
    "\n",
    "All community boards have separate sites for their minutes \n",
    "\n",
    "> I watched Soma's youtube tutorial https://www.youtube.com/watch?v=QNKxzkNpsko\n"
   ]
  },
  {
   "cell_type": "markdown",
   "metadata": {},
   "source": [
    "I chatted with Soma, and he said he imagined each community board to have one scrapper, and it's better to have a minimum viable product since it looks more impressive on your CV than attempting and learning something even if it fails. "
   ]
  },
  {
   "cell_type": "markdown",
   "metadata": {},
   "source": [
    "## Setup: Import what you'll need to scrape the page\n",
    "\n",
    "We'll be using either Playwrightfor this, *not* requests."
   ]
  },
  {
   "cell_type": "markdown",
   "metadata": {
    "collapsed": true,
    "jupyter": {
     "outputs_hidden": true
    }
   },
   "source": [
    "## Starting your search\n",
    "\n",
    "Starting from [here](https://www.nyc.gov/site/bronxcb1/calendar/board-meeting-minutes.page), search for all community board meeting minutes from Community Board 1 Bronx"
   ]
  },
  {
   "cell_type": "markdown",
   "metadata": {},
   "source": [
    "# Finding all minutes"
   ]
  },
  {
   "cell_type": "code",
   "execution_count": null,
   "metadata": {},
   "outputs": [],
   "source": []
  },
  {
   "cell_type": "code",
   "execution_count": 6,
   "metadata": {
    "scrolled": true
   },
   "outputs": [
    {
     "name": "stdout",
     "output_type": "stream",
     "text": [
      "Scraped data saved to 'Manhattan_CB2.csv'.\n"
     ]
    }
   ],
   "source": [
    "import os\n",
    "import requests\n",
    "import pandas as pd\n",
    "import time\n",
    "from bs4 import BeautifulSoup\n",
    "\n",
    "# Base URLs to scrape\n",
    "urls_to_scrape = [\n",
    "    \"https://cbmanhattan.cityofnewyork.us/cb2/minutes/\",\n",
    "    \"https://cbmanhattan.cityofnewyork.us/cb2/minutes/archives/\"\n",
    "]\n",
    "\n",
    "# Folder to store downloaded PDFs\n",
    "folder_name = \"Manhattan_CB2_PDFs\"\n",
    "os.makedirs(folder_name, exist_ok=True)\n",
    "\n",
    "# Initialize session and data\n",
    "session = requests.Session()\n",
    "session.headers.update({\n",
    "    \"User-Agent\": \"Mozilla/5.0 (Windows NT 10.0; Win64; x64) AppleWebKit/537.36 (KHTML, like Gecko) Chrome/91.0.4472.124 Safari/537.36\"\n",
    "})\n",
    "scraped_data = []\n",
    "\n",
    "# Function to scrape webpage\n",
    "def scrape_webpage(url, base_url):\n",
    "    try:\n",
    "        response = session.get(url, timeout=10)\n",
    "        if response.status_code == 200:\n",
    "            soup = BeautifulSoup(response.content, \"html.parser\")\n",
    "\n",
    "            # Find all 'div' elements with the class 'entry-content' and within those, look for 'a' tags with an 'href' attribute\n",
    "            links = soup.find_all(\"div\", class_=\"entry-content\")  # Fix syntax for class_\n",
    "            for div in links:\n",
    "                anchor_tags = div.find_all(\"a\", href=True)  # Find 'a' tags inside each 'div'\n",
    "                for link in anchor_tags:\n",
    "                    href = link[\"href\"]\n",
    "                    text = link.text.strip()\n",
    "                    # Filter for PDF links or meeting minutes\n",
    "                    if \".pdf\" in href.lower() or \"minutes\" in href.lower():\n",
    "                        scraped_data.append({\"Date\": text, \"URL\": href})\n",
    "\n",
    "        else:\n",
    "            print(f\"Failed to fetch webpage {url}. Status code: {response.status_code}\")\n",
    "    except requests.exceptions.Timeout:\n",
    "        print(f\"Timeout occurred for URL: {url}\")\n",
    "    except requests.exceptions.RequestException as e:\n",
    "        print(f\"Error occurred for URL {url}: {e}\")\n",
    "\n",
    "# Scrape both URLs\n",
    "for url in urls_to_scrape:\n",
    "    scrape_webpage(url, url)  # Pass the base URL for relative link resolution\n",
    "    time.sleep(2)  # Delay between requests\n",
    "\n",
    "# Save to CSV\n",
    "df = pd.DataFrame(scraped_data)\n",
    "df.to_csv(\"Manhattan_CB2.csv\", index=False)\n",
    "print(\"Scraped data saved to 'Manhattan_CB2.csv'.\")"
   ]
  },
  {
   "cell_type": "code",
   "execution_count": 7,
   "metadata": {},
   "outputs": [
    {
     "data": {
      "text/html": [
       "<div>\n",
       "<style scoped>\n",
       "    .dataframe tbody tr th:only-of-type {\n",
       "        vertical-align: middle;\n",
       "    }\n",
       "\n",
       "    .dataframe tbody tr th {\n",
       "        vertical-align: top;\n",
       "    }\n",
       "\n",
       "    .dataframe thead th {\n",
       "        text-align: right;\n",
       "    }\n",
       "</style>\n",
       "<table border=\"1\" class=\"dataframe\">\n",
       "  <thead>\n",
       "    <tr style=\"text-align: right;\">\n",
       "      <th></th>\n",
       "      <th>Date</th>\n",
       "      <th>URL</th>\n",
       "    </tr>\n",
       "  </thead>\n",
       "  <tbody>\n",
       "    <tr>\n",
       "      <th>0</th>\n",
       "      <td>October 2024</td>\n",
       "      <td>https://cbmanhattan.cityofnewyork.us/cb2/wp-co...</td>\n",
       "    </tr>\n",
       "    <tr>\n",
       "      <th>1</th>\n",
       "      <td>September 2024</td>\n",
       "      <td>https://cbmanhattan.cityofnewyork.us/cb2/wp-co...</td>\n",
       "    </tr>\n",
       "    <tr>\n",
       "      <th>2</th>\n",
       "      <td>July 2024</td>\n",
       "      <td>https://cbmanhattan.cityofnewyork.us/cb2/wp-co...</td>\n",
       "    </tr>\n",
       "    <tr>\n",
       "      <th>3</th>\n",
       "      <td>June 2024</td>\n",
       "      <td>https://cbmanhattan.cityofnewyork.us/cb2/wp-co...</td>\n",
       "    </tr>\n",
       "    <tr>\n",
       "      <th>4</th>\n",
       "      <td>May 2024</td>\n",
       "      <td>https://cbmanhattan.cityofnewyork.us/cb2/wp-co...</td>\n",
       "    </tr>\n",
       "  </tbody>\n",
       "</table>\n",
       "</div>"
      ],
      "text/plain": [
       "             Date                                                URL\n",
       "0    October 2024  https://cbmanhattan.cityofnewyork.us/cb2/wp-co...\n",
       "1  September 2024  https://cbmanhattan.cityofnewyork.us/cb2/wp-co...\n",
       "2       July 2024  https://cbmanhattan.cityofnewyork.us/cb2/wp-co...\n",
       "3       June 2024  https://cbmanhattan.cityofnewyork.us/cb2/wp-co...\n",
       "4        May 2024  https://cbmanhattan.cityofnewyork.us/cb2/wp-co..."
      ]
     },
     "execution_count": 7,
     "metadata": {},
     "output_type": "execute_result"
    }
   ],
   "source": [
    "import pandas as pd\n",
    "df = pd.DataFrame(scraped_data)\n",
    "df.head()\n"
   ]
  },
  {
   "cell_type": "markdown",
   "metadata": {},
   "source": [
    "# Export the df "
   ]
  },
  {
   "cell_type": "markdown",
   "metadata": {},
   "source": [
    "I stole this code from the internet and fixed it up, link [here](https://www.geeksforgeeks.org/downloading-pdfs-with-python-using-requests-and-beautifulsoup/)"
   ]
  },
  {
   "cell_type": "code",
   "execution_count": 9,
   "metadata": {},
   "outputs": [
    {
     "name": "stdout",
     "output_type": "stream",
     "text": [
      "Processing: October 2024 (https://cbmanhattan.cityofnewyork.us/cb2/wp-content/uploads/sites/9/2024/11/10-October-2024-Full-Board-Minutes-MND-rev_EGS.pdf)\n",
      "File already exists: Manhattan_CB2_PDFs/10-October-2024-Full-Board-Minutes-MND-rev_EGS.pdf\n",
      "Processing: September 2024 (https://cbmanhattan.cityofnewyork.us/cb2/wp-content/uploads/sites/9/2024/11/09-September-2024-Full-Board-Minutes-MND-rev.pdf)\n",
      "File already exists: Manhattan_CB2_PDFs/09-September-2024-Full-Board-Minutes-MND-rev.pdf\n",
      "Processing: July 2024 (https://cbmanhattan.cityofnewyork.us/cb2/wp-content/uploads/sites/9/2024/11/07-July-2024-Full-Board-Minutes-Final-2.pdf)\n",
      "File already exists: Manhattan_CB2_PDFs/07-July-2024-Full-Board-Minutes-Final-2.pdf\n",
      "Processing: June 2024 (https://cbmanhattan.cityofnewyork.us/cb2/wp-content/uploads/sites/9/2024/07/06-June-2024-Full-Board-Minutes-Final-for-Board-Package.pdf)\n",
      "File already exists: Manhattan_CB2_PDFs/06-June-2024-Full-Board-Minutes-Final-for-Board-Package.pdf\n",
      "Processing: May 2024 (https://cbmanhattan.cityofnewyork.us/cb2/wp-content/uploads/sites/9/2024/07/05-May-2024-Full-Board-Minutes_EGS-Edits-Proposed-Final.pdf)\n",
      "File already exists: Manhattan_CB2_PDFs/05-May-2024-Full-Board-Minutes_EGS-Edits-Proposed-Final.pdf\n",
      "Processing: April 2024 (https://cbmanhattan.cityofnewyork.us/cb2/wp-content/uploads/sites/9/2024/07/04-April-2024-Full-Board-Minutes_EGS-edits.pdf)\n",
      "File already exists: Manhattan_CB2_PDFs/04-April-2024-Full-Board-Minutes_EGS-edits.pdf\n",
      "pdfplumber failed for 04-April-2024-Full-Board-Minutes_EGS-edits.pdf: No /Root object! - Is this really a PDF?\n",
      "Falling back to OCR for 04-April-2024-Full-Board-Minutes_EGS-edits.pdf\n"
     ]
    },
    {
     "name": "stderr",
     "output_type": "stream",
     "text": [
      "cannot identify image file '/Users/chivo/Downloads/Foundations/HW/auto_update_web/Manhattan_CB2/Manhattan_CB2_PDFs/04-April-2024-Full-Board-Minutes_EGS-edits.pdf'\n"
     ]
    },
    {
     "name": "stdout",
     "output_type": "stream",
     "text": [
      "OCR failed for 04-April-2024-Full-Board-Minutes_EGS-edits.pdf: \n",
      "Processing: March 2024 (https://cbmanhattan.cityofnewyork.us/cb2/wp-content/uploads/sites/9/2024/07/03-March-2024-Full-Board-Minutes-proposed-final.pdf)\n",
      "File already exists: Manhattan_CB2_PDFs/03-March-2024-Full-Board-Minutes-proposed-final.pdf\n"
     ]
    },
    {
     "name": "stderr",
     "output_type": "stream",
     "text": [
      "cannot identify image file '/Users/chivo/Downloads/Foundations/HW/auto_update_web/Manhattan_CB2/Manhattan_CB2_PDFs/03-March-2024-Full-Board-Minutes-proposed-final.pdf'\n"
     ]
    },
    {
     "name": "stdout",
     "output_type": "stream",
     "text": [
      "pdfplumber failed for 03-March-2024-Full-Board-Minutes-proposed-final.pdf: No /Root object! - Is this really a PDF?\n",
      "Falling back to OCR for 03-March-2024-Full-Board-Minutes-proposed-final.pdf\n",
      "OCR failed for 03-March-2024-Full-Board-Minutes-proposed-final.pdf: \n",
      "Processing: February 2024 (https://cbmanhattan.cityofnewyork.us/cb2/wp-content/uploads/sites/9/2024/07/02-February-2024-Full-Board-Minutes-1.pdf)\n",
      "File already exists: Manhattan_CB2_PDFs/02-February-2024-Full-Board-Minutes-1.pdf\n",
      "Processing: January 2024 (https://cbmanhattan.cityofnewyork.us/cb2/wp-content/uploads/sites/9/2024/07/01-January-2024-Full-Board-Minutes.pdf)\n",
      "File already exists: Manhattan_CB2_PDFs/01-January-2024-Full-Board-Minutes.pdf\n",
      "Processing: November 2023 (https://cbmanhattan.cityofnewyork.us/cb2/wp-content/uploads/sites/9/2023/12/11-November-2023-Full-Board-Minutes.pdf)\n",
      "File already exists: Manhattan_CB2_PDFs/11-November-2023-Full-Board-Minutes.pdf\n",
      "Processing: October 2023 (https://cbmanhattan.cityofnewyork.us/cb2/wp-content/uploads/sites/9/2024/01/10-October-2023-Full-Board-Minutes_R1-1.17.23.pdf)\n",
      "File already exists: Manhattan_CB2_PDFs/10-October-2023-Full-Board-Minutes_R1-1.17.23.pdf\n"
     ]
    },
    {
     "name": "stderr",
     "output_type": "stream",
     "text": [
      "cannot identify image file '/Users/chivo/Downloads/Foundations/HW/auto_update_web/Manhattan_CB2/Manhattan_CB2_PDFs/10-October-2023-Full-Board-Minutes_R1-1.17.23.pdf'\n"
     ]
    },
    {
     "name": "stdout",
     "output_type": "stream",
     "text": [
      "pdfplumber failed for 10-October-2023-Full-Board-Minutes_R1-1.17.23.pdf: No /Root object! - Is this really a PDF?\n",
      "Falling back to OCR for 10-October-2023-Full-Board-Minutes_R1-1.17.23.pdf\n",
      "OCR failed for 10-October-2023-Full-Board-Minutes_R1-1.17.23.pdf: \n",
      "Processing: September 2023 (https://cbmanhattan.cityofnewyork.us/cb2/wp-content/uploads/sites/9/2023/12/09-August-and-September-2023-Full-Board-Minutes-2.pdf)\n",
      "File already exists: Manhattan_CB2_PDFs/09-August-and-September-2023-Full-Board-Minutes-2.pdf\n",
      "Processing: July 2023 (https://cbmanhattan.cityofnewyork.us/cb2/wp-content/uploads/sites/9/2023/12/July-2023-Full-Board-Minutes-2.pdf)\n",
      "File already exists: Manhattan_CB2_PDFs/July-2023-Full-Board-Minutes-2.pdf\n"
     ]
    },
    {
     "name": "stderr",
     "output_type": "stream",
     "text": [
      "cannot identify image file '/Users/chivo/Downloads/Foundations/HW/auto_update_web/Manhattan_CB2/Manhattan_CB2_PDFs/July-2023-Full-Board-Minutes-2.pdf'\n"
     ]
    },
    {
     "name": "stdout",
     "output_type": "stream",
     "text": [
      "pdfplumber failed for July-2023-Full-Board-Minutes-2.pdf: No /Root object! - Is this really a PDF?\n",
      "Falling back to OCR for July-2023-Full-Board-Minutes-2.pdf\n",
      "OCR failed for July-2023-Full-Board-Minutes-2.pdf: \n",
      "Processing: June 2023 (https://cbmanhattan.cityofnewyork.us/cb2/wp-content/uploads/sites/9/2023/12/Final-Draft-06-June_2023-Full-Board-Minutes-MND-FLJul-19-Edits.pdf)\n",
      "File already exists: Manhattan_CB2_PDFs/Final-Draft-06-June_2023-Full-Board-Minutes-MND-FLJul-19-Edits.pdf\n"
     ]
    },
    {
     "name": "stderr",
     "output_type": "stream",
     "text": [
      "cannot identify image file '/Users/chivo/Downloads/Foundations/HW/auto_update_web/Manhattan_CB2/Manhattan_CB2_PDFs/Final-Draft-06-June_2023-Full-Board-Minutes-MND-FLJul-19-Edits.pdf'\n"
     ]
    },
    {
     "name": "stdout",
     "output_type": "stream",
     "text": [
      "pdfplumber failed for Final-Draft-06-June_2023-Full-Board-Minutes-MND-FLJul-19-Edits.pdf: No /Root object! - Is this really a PDF?\n",
      "Falling back to OCR for Final-Draft-06-June_2023-Full-Board-Minutes-MND-FLJul-19-Edits.pdf\n",
      "OCR failed for Final-Draft-06-June_2023-Full-Board-Minutes-MND-FLJul-19-Edits.pdf: \n",
      "Processing: May 2023 (https://cbmanhattan.cityofnewyork.us/cb2/wp-content/uploads/sites/9/2023/07/05-May_2023-Full-Board-Minutes-1.pdf)\n",
      "File already exists: Manhattan_CB2_PDFs/05-May_2023-Full-Board-Minutes-1.pdf\n"
     ]
    },
    {
     "name": "stderr",
     "output_type": "stream",
     "text": [
      "cannot identify image file '/Users/chivo/Downloads/Foundations/HW/auto_update_web/Manhattan_CB2/Manhattan_CB2_PDFs/05-May_2023-Full-Board-Minutes-1.pdf'\n"
     ]
    },
    {
     "name": "stdout",
     "output_type": "stream",
     "text": [
      "pdfplumber failed for 05-May_2023-Full-Board-Minutes-1.pdf: No /Root object! - Is this really a PDF?\n",
      "Falling back to OCR for 05-May_2023-Full-Board-Minutes-1.pdf\n",
      "OCR failed for 05-May_2023-Full-Board-Minutes-1.pdf: \n",
      "Processing: April 2023 (https://cbmanhattan.cityofnewyork.us/cb2/wp-content/uploads/sites/9/2023/07/04-April_2023-Full-Board-Minutes.pdf)\n",
      "File already exists: Manhattan_CB2_PDFs/04-April_2023-Full-Board-Minutes.pdf\n"
     ]
    },
    {
     "name": "stderr",
     "output_type": "stream",
     "text": [
      "cannot identify image file '/Users/chivo/Downloads/Foundations/HW/auto_update_web/Manhattan_CB2/Manhattan_CB2_PDFs/04-April_2023-Full-Board-Minutes.pdf'\n"
     ]
    },
    {
     "name": "stdout",
     "output_type": "stream",
     "text": [
      "pdfplumber failed for 04-April_2023-Full-Board-Minutes.pdf: No /Root object! - Is this really a PDF?\n",
      "Falling back to OCR for 04-April_2023-Full-Board-Minutes.pdf\n",
      "OCR failed for 04-April_2023-Full-Board-Minutes.pdf: \n",
      "Processing: March 2023 (https://cbmanhattan.cityofnewyork.us/cb2/wp-content/uploads/sites/9/2023/07/03-March_2023-Full-Board-Minutes-1.pdf)\n",
      "File already exists: Manhattan_CB2_PDFs/03-March_2023-Full-Board-Minutes-1.pdf\n"
     ]
    },
    {
     "name": "stderr",
     "output_type": "stream",
     "text": [
      "cannot identify image file '/Users/chivo/Downloads/Foundations/HW/auto_update_web/Manhattan_CB2/Manhattan_CB2_PDFs/03-March_2023-Full-Board-Minutes-1.pdf'\n"
     ]
    },
    {
     "name": "stdout",
     "output_type": "stream",
     "text": [
      "pdfplumber failed for 03-March_2023-Full-Board-Minutes-1.pdf: No /Root object! - Is this really a PDF?\n",
      "Falling back to OCR for 03-March_2023-Full-Board-Minutes-1.pdf\n",
      "OCR failed for 03-March_2023-Full-Board-Minutes-1.pdf: \n",
      "Processing: February 2023 (https://cbmanhattan.cityofnewyork.us/cb2/wp-content/uploads/sites/9/2023/07/02-February-2023-Full-Board-Minutes.pdf)\n",
      "File already exists: Manhattan_CB2_PDFs/02-February-2023-Full-Board-Minutes.pdf\n",
      "Processing: January 2023 (https://cbmanhattan.cityofnewyork.us/cb2/wp-content/uploads/sites/9/2023/02/01-January_2023-Full-Board-Minutes-1.pdf)\n",
      "File already exists: Manhattan_CB2_PDFs/01-January_2023-Full-Board-Minutes-1.pdf\n"
     ]
    },
    {
     "name": "stderr",
     "output_type": "stream",
     "text": [
      "cannot identify image file '/Users/chivo/Downloads/Foundations/HW/auto_update_web/Manhattan_CB2/Manhattan_CB2_PDFs/01-January_2023-Full-Board-Minutes-1.pdf'\n"
     ]
    },
    {
     "name": "stdout",
     "output_type": "stream",
     "text": [
      "pdfplumber failed for 01-January_2023-Full-Board-Minutes-1.pdf: No /Root object! - Is this really a PDF?\n",
      "Falling back to OCR for 01-January_2023-Full-Board-Minutes-1.pdf\n",
      "OCR failed for 01-January_2023-Full-Board-Minutes-1.pdf: \n",
      "Processing: December 2022 (https://cbmanhattan.cityofnewyork.us/cb2/wp-content/uploads/sites/9/2023/01/12-December-2022-Full-Board-Minutes.pdf)\n",
      "File already exists: Manhattan_CB2_PDFs/12-December-2022-Full-Board-Minutes.pdf\n",
      "Processing: November 2022 (https://cbmanhattan.cityofnewyork.us/cb2/wp-content/uploads/sites/9/2022/12/11-November-2022-Full-Board-Minutes.pdf)\n",
      "File already exists: Manhattan_CB2_PDFs/11-November-2022-Full-Board-Minutes.pdf\n"
     ]
    },
    {
     "name": "stderr",
     "output_type": "stream",
     "text": [
      "cannot identify image file '/Users/chivo/Downloads/Foundations/HW/auto_update_web/Manhattan_CB2/Manhattan_CB2_PDFs/11-November-2022-Full-Board-Minutes.pdf'\n"
     ]
    },
    {
     "name": "stdout",
     "output_type": "stream",
     "text": [
      "pdfplumber failed for 11-November-2022-Full-Board-Minutes.pdf: No /Root object! - Is this really a PDF?\n",
      "Falling back to OCR for 11-November-2022-Full-Board-Minutes.pdf\n",
      "OCR failed for 11-November-2022-Full-Board-Minutes.pdf: \n",
      "Processing: October 2022 (https://cbmanhattan.cityofnewyork.us/cb2/wp-content/uploads/sites/9/2022/12/10-October_2022-Full-Board-Minutes.pdf)\n",
      "File already exists: Manhattan_CB2_PDFs/10-October_2022-Full-Board-Minutes.pdf\n",
      "Processing: September 2022 (https://cbmanhattan.cityofnewyork.us/cb2/wp-content/uploads/sites/9/2022/12/09-September-2022-Full-Board-Minutes.pdf)\n",
      "File already exists: Manhattan_CB2_PDFs/09-September-2022-Full-Board-Minutes.pdf\n",
      "Processing: July 2022 (https://cbmanhattan.cityofnewyork.us/cb2/wp-content/uploads/sites/9/2022/12/07-July-2022-Full-Board-Minutes.pdf)\n",
      "File already exists: Manhattan_CB2_PDFs/07-July-2022-Full-Board-Minutes.pdf\n"
     ]
    },
    {
     "name": "stderr",
     "output_type": "stream",
     "text": [
      "cannot identify image file '/Users/chivo/Downloads/Foundations/HW/auto_update_web/Manhattan_CB2/Manhattan_CB2_PDFs/07-July-2022-Full-Board-Minutes.pdf'\n"
     ]
    },
    {
     "name": "stdout",
     "output_type": "stream",
     "text": [
      "pdfplumber failed for 07-July-2022-Full-Board-Minutes.pdf: No /Root object! - Is this really a PDF?\n",
      "Falling back to OCR for 07-July-2022-Full-Board-Minutes.pdf\n",
      "OCR failed for 07-July-2022-Full-Board-Minutes.pdf: \n",
      "Processing: June 2022 (https://cbmanhattan.cityofnewyork.us/cb2/wp-content/uploads/sites/9/2022/12/06-June-2022-Full-Board-Minutes.pdf)\n",
      "File already exists: Manhattan_CB2_PDFs/06-June-2022-Full-Board-Minutes.pdf\n"
     ]
    },
    {
     "name": "stderr",
     "output_type": "stream",
     "text": [
      "cannot identify image file '/Users/chivo/Downloads/Foundations/HW/auto_update_web/Manhattan_CB2/Manhattan_CB2_PDFs/06-June-2022-Full-Board-Minutes.pdf'\n"
     ]
    },
    {
     "name": "stdout",
     "output_type": "stream",
     "text": [
      "pdfplumber failed for 06-June-2022-Full-Board-Minutes.pdf: No /Root object! - Is this really a PDF?\n",
      "Falling back to OCR for 06-June-2022-Full-Board-Minutes.pdf\n",
      "OCR failed for 06-June-2022-Full-Board-Minutes.pdf: \n",
      "Processing: May 2022 (https://cbmanhattan.cityofnewyork.us/cb2/wp-content/uploads/sites/9/2022/07/05-May-2022-Full-Board-Minutes.pdf)\n",
      "File already exists: Manhattan_CB2_PDFs/05-May-2022-Full-Board-Minutes.pdf\n",
      "Processing: April 2022 (https://cbmanhattan.cityofnewyork.us/cb2/wp-content/uploads/sites/9/2022/05/04-April-2022-Full-Board-Minutes.pdf)\n",
      "File already exists: Manhattan_CB2_PDFs/04-April-2022-Full-Board-Minutes.pdf\n",
      "Processing: March 2022 (https://cbmanhattan.cityofnewyork.us/cb2/wp-content/uploads/sites/9/2022/05/03-March-2022-Full-Board-Minutes.pdf)\n",
      "File already exists: Manhattan_CB2_PDFs/03-March-2022-Full-Board-Minutes.pdf\n"
     ]
    },
    {
     "name": "stderr",
     "output_type": "stream",
     "text": [
      "cannot identify image file '/Users/chivo/Downloads/Foundations/HW/auto_update_web/Manhattan_CB2/Manhattan_CB2_PDFs/03-March-2022-Full-Board-Minutes.pdf'\n"
     ]
    },
    {
     "name": "stdout",
     "output_type": "stream",
     "text": [
      "pdfplumber failed for 03-March-2022-Full-Board-Minutes.pdf: No /Root object! - Is this really a PDF?\n",
      "Falling back to OCR for 03-March-2022-Full-Board-Minutes.pdf\n",
      "OCR failed for 03-March-2022-Full-Board-Minutes.pdf: \n",
      "Processing: February 2022 (https://cbmanhattan.cityofnewyork.us/cb2/wp-content/uploads/sites/9/2022/04/02-February-2022-Full-Board-Minutes.pdf)\n",
      "File already exists: Manhattan_CB2_PDFs/02-February-2022-Full-Board-Minutes.pdf\n"
     ]
    },
    {
     "name": "stderr",
     "output_type": "stream",
     "text": [
      "cannot identify image file '/Users/chivo/Downloads/Foundations/HW/auto_update_web/Manhattan_CB2/Manhattan_CB2_PDFs/02-February-2022-Full-Board-Minutes.pdf'\n"
     ]
    },
    {
     "name": "stdout",
     "output_type": "stream",
     "text": [
      "pdfplumber failed for 02-February-2022-Full-Board-Minutes.pdf: No /Root object! - Is this really a PDF?\n",
      "Falling back to OCR for 02-February-2022-Full-Board-Minutes.pdf\n",
      "OCR failed for 02-February-2022-Full-Board-Minutes.pdf: \n",
      "Processing: January 2022 (https://cbmanhattan.cityofnewyork.us/cb2/wp-content/uploads/sites/9/2022/02/1-January-2022-Full-Board-Minutes.pdf)\n",
      "File already exists: Manhattan_CB2_PDFs/1-January-2022-Full-Board-Minutes.pdf\n"
     ]
    },
    {
     "name": "stderr",
     "output_type": "stream",
     "text": [
      "cannot identify image file '/Users/chivo/Downloads/Foundations/HW/auto_update_web/Manhattan_CB2/Manhattan_CB2_PDFs/1-January-2022-Full-Board-Minutes.pdf'\n"
     ]
    },
    {
     "name": "stdout",
     "output_type": "stream",
     "text": [
      "pdfplumber failed for 1-January-2022-Full-Board-Minutes.pdf: No /Root object! - Is this really a PDF?\n",
      "Falling back to OCR for 1-January-2022-Full-Board-Minutes.pdf\n",
      "OCR failed for 1-January-2022-Full-Board-Minutes.pdf: \n",
      "Processing: December 2021 (https://cbmanhattan.cityofnewyork.us/cb2/wp-content/uploads/sites/9/2022/05/12-December-2021-FB.pdf)\n",
      "File already exists: Manhattan_CB2_PDFs/12-December-2021-FB.pdf\n"
     ]
    },
    {
     "name": "stderr",
     "output_type": "stream",
     "text": [
      "cannot identify image file '/Users/chivo/Downloads/Foundations/HW/auto_update_web/Manhattan_CB2/Manhattan_CB2_PDFs/12-December-2021-FB.pdf'\n"
     ]
    },
    {
     "name": "stdout",
     "output_type": "stream",
     "text": [
      "pdfplumber failed for 12-December-2021-FB.pdf: No /Root object! - Is this really a PDF?\n",
      "Falling back to OCR for 12-December-2021-FB.pdf\n",
      "OCR failed for 12-December-2021-FB.pdf: \n",
      "Processing: November 2021 (https://cbmanhattan.cityofnewyork.us/cb2/wp-content/uploads/sites/9/2022/01/11-November-2021-FB-Minutes.pdf)\n",
      "File already exists: Manhattan_CB2_PDFs/11-November-2021-FB-Minutes.pdf\n"
     ]
    },
    {
     "name": "stderr",
     "output_type": "stream",
     "text": [
      "cannot identify image file '/Users/chivo/Downloads/Foundations/HW/auto_update_web/Manhattan_CB2/Manhattan_CB2_PDFs/11-November-2021-FB-Minutes.pdf'\n"
     ]
    },
    {
     "name": "stdout",
     "output_type": "stream",
     "text": [
      "pdfplumber failed for 11-November-2021-FB-Minutes.pdf: No /Root object! - Is this really a PDF?\n",
      "Falling back to OCR for 11-November-2021-FB-Minutes.pdf\n",
      "OCR failed for 11-November-2021-FB-Minutes.pdf: \n",
      "Processing: October 2021 (https://cbmanhattan.cityofnewyork.us/cb2/wp-content/uploads/sites/9/2022/01/10-October-2021-FB-Minutes.pdf)\n",
      "File already exists: Manhattan_CB2_PDFs/10-October-2021-FB-Minutes.pdf\n"
     ]
    },
    {
     "name": "stderr",
     "output_type": "stream",
     "text": [
      "cannot identify image file '/Users/chivo/Downloads/Foundations/HW/auto_update_web/Manhattan_CB2/Manhattan_CB2_PDFs/10-October-2021-FB-Minutes.pdf'\n"
     ]
    },
    {
     "name": "stdout",
     "output_type": "stream",
     "text": [
      "pdfplumber failed for 10-October-2021-FB-Minutes.pdf: No /Root object! - Is this really a PDF?\n",
      "Falling back to OCR for 10-October-2021-FB-Minutes.pdf\n",
      "OCR failed for 10-October-2021-FB-Minutes.pdf: \n",
      "Processing: September 2021 (https://cbmanhattan.cityofnewyork.us/cb2/wp-content/uploads/sites/9/2021/10/09-September-2021-FB-Minutes.pdf)\n",
      "File already exists: Manhattan_CB2_PDFs/09-September-2021-FB-Minutes.pdf\n"
     ]
    },
    {
     "name": "stderr",
     "output_type": "stream",
     "text": [
      "cannot identify image file '/Users/chivo/Downloads/Foundations/HW/auto_update_web/Manhattan_CB2/Manhattan_CB2_PDFs/09-September-2021-FB-Minutes.pdf'\n"
     ]
    },
    {
     "name": "stdout",
     "output_type": "stream",
     "text": [
      "pdfplumber failed for 09-September-2021-FB-Minutes.pdf: No /Root object! - Is this really a PDF?\n",
      "Falling back to OCR for 09-September-2021-FB-Minutes.pdf\n",
      "OCR failed for 09-September-2021-FB-Minutes.pdf: \n",
      "Processing: July 2021 (https://cbmanhattan.cityofnewyork.us/cb2/wp-content/uploads/sites/9/2021/09/07-July-2021.pdf)\n",
      "File already exists: Manhattan_CB2_PDFs/07-July-2021.pdf\n",
      "Processing: June 2021 (https://cbmanhattan.cityofnewyork.us/cb2/wp-content/uploads/sites/9/2021/07/06-June-2021-FB-Minutes.pdf)\n",
      "File already exists: Manhattan_CB2_PDFs/06-June-2021-FB-Minutes.pdf\n",
      "Processing: May 2021 (https://cbmanhattan.cityofnewyork.us/cb2/wp-content/uploads/sites/9/2021/07/05-May-2021-FB-Minutes.pdf)\n",
      "File already exists: Manhattan_CB2_PDFs/05-May-2021-FB-Minutes.pdf\n"
     ]
    },
    {
     "name": "stderr",
     "output_type": "stream",
     "text": [
      "cannot identify image file '/Users/chivo/Downloads/Foundations/HW/auto_update_web/Manhattan_CB2/Manhattan_CB2_PDFs/05-May-2021-FB-Minutes.pdf'\n"
     ]
    },
    {
     "name": "stdout",
     "output_type": "stream",
     "text": [
      "pdfplumber failed for 05-May-2021-FB-Minutes.pdf: No /Root object! - Is this really a PDF?\n",
      "Falling back to OCR for 05-May-2021-FB-Minutes.pdf\n",
      "OCR failed for 05-May-2021-FB-Minutes.pdf: \n",
      "Processing: April 2021 (https://cbmanhattan.cityofnewyork.us/cb2/wp-content/uploads/sites/9/2021/06/04-April-2021-FB-Minutes.pdf)\n",
      "File already exists: Manhattan_CB2_PDFs/04-April-2021-FB-Minutes.pdf\n"
     ]
    },
    {
     "name": "stderr",
     "output_type": "stream",
     "text": [
      "cannot identify image file '/Users/chivo/Downloads/Foundations/HW/auto_update_web/Manhattan_CB2/Manhattan_CB2_PDFs/04-April-2021-FB-Minutes.pdf'\n"
     ]
    },
    {
     "name": "stdout",
     "output_type": "stream",
     "text": [
      "pdfplumber failed for 04-April-2021-FB-Minutes.pdf: No /Root object! - Is this really a PDF?\n",
      "Falling back to OCR for 04-April-2021-FB-Minutes.pdf\n",
      "OCR failed for 04-April-2021-FB-Minutes.pdf: \n",
      "Processing: March 2021 (https://cbmanhattan.cityofnewyork.us/cb2/wp-content/uploads/sites/9/2021/04/03-March-2021-FB-Minutes.pdf)\n",
      "File already exists: Manhattan_CB2_PDFs/03-March-2021-FB-Minutes.pdf\n",
      "Processing: February 2021 (https://cbmanhattan.cityofnewyork.us/cb2/wp-content/uploads/sites/9/2021/03/02-February-2021-Minutes.pdf)\n",
      "File already exists: Manhattan_CB2_PDFs/02-February-2021-Minutes.pdf\n",
      "Processing: January 2021 (https://cbmanhattan.cityofnewyork.us/cb2/wp-content/uploads/sites/9/2022/11/01-January-2021-Full-Board-Minutes.pdf)\n",
      "File already exists: Manhattan_CB2_PDFs/01-January-2021-Full-Board-Minutes.pdf\n"
     ]
    },
    {
     "name": "stderr",
     "output_type": "stream",
     "text": [
      "cannot identify image file '/Users/chivo/Downloads/Foundations/HW/auto_update_web/Manhattan_CB2/Manhattan_CB2_PDFs/01-January-2021-Full-Board-Minutes.pdf'\n"
     ]
    },
    {
     "name": "stdout",
     "output_type": "stream",
     "text": [
      "pdfplumber failed for 01-January-2021-Full-Board-Minutes.pdf: No /Root object! - Is this really a PDF?\n",
      "Falling back to OCR for 01-January-2021-Full-Board-Minutes.pdf\n",
      "OCR failed for 01-January-2021-Full-Board-Minutes.pdf: \n",
      "Processing: December 2020 (https://cbmanhattan.cityofnewyork.us/cb2/wp-content/uploads/sites/9/2021/02/12-December-2020.pdf)\n",
      "File already exists: Manhattan_CB2_PDFs/12-December-2020.pdf\n",
      "Processing: November 2020 (https://cbmanhattan.cityofnewyork.us/cb2/wp-content/uploads/sites/9/2020/12/11-November-2020.pdf)\n",
      "File already exists: Manhattan_CB2_PDFs/11-November-2020.pdf\n"
     ]
    },
    {
     "name": "stderr",
     "output_type": "stream",
     "text": [
      "cannot identify image file '/Users/chivo/Downloads/Foundations/HW/auto_update_web/Manhattan_CB2/Manhattan_CB2_PDFs/11-November-2020.pdf'\n"
     ]
    },
    {
     "name": "stdout",
     "output_type": "stream",
     "text": [
      "pdfplumber failed for 11-November-2020.pdf: No /Root object! - Is this really a PDF?\n",
      "Falling back to OCR for 11-November-2020.pdf\n",
      "OCR failed for 11-November-2020.pdf: \n",
      "Processing: October 2020 (https://cbmanhattan.cityofnewyork.us/cb2/wp-content/uploads/sites/9/2021/02/10-October-2020_updated.pdf)\n",
      "File already exists: Manhattan_CB2_PDFs/10-October-2020_updated.pdf\n"
     ]
    },
    {
     "name": "stderr",
     "output_type": "stream",
     "text": [
      "cannot identify image file '/Users/chivo/Downloads/Foundations/HW/auto_update_web/Manhattan_CB2/Manhattan_CB2_PDFs/10-October-2020_updated.pdf'\n"
     ]
    },
    {
     "name": "stdout",
     "output_type": "stream",
     "text": [
      "pdfplumber failed for 10-October-2020_updated.pdf: No /Root object! - Is this really a PDF?\n",
      "Falling back to OCR for 10-October-2020_updated.pdf\n",
      "OCR failed for 10-October-2020_updated.pdf: \n",
      "Processing: September 2020 (https://cbmanhattan.cityofnewyork.us/cb2/wp-content/uploads/sites/9/2020/10/09-September-2020.pdf)\n",
      "File already exists: Manhattan_CB2_PDFs/09-September-2020.pdf\n"
     ]
    },
    {
     "name": "stderr",
     "output_type": "stream",
     "text": [
      "cannot identify image file '/Users/chivo/Downloads/Foundations/HW/auto_update_web/Manhattan_CB2/Manhattan_CB2_PDFs/09-September-2020.pdf'\n"
     ]
    },
    {
     "name": "stdout",
     "output_type": "stream",
     "text": [
      "pdfplumber failed for 09-September-2020.pdf: No /Root object! - Is this really a PDF?\n",
      "Falling back to OCR for 09-September-2020.pdf\n",
      "OCR failed for 09-September-2020.pdf: \n",
      "Processing: August 2020 (https://cbmanhattan.cityofnewyork.us/cb2/wp-content/uploads/sites/9/2020/09/08-August-2020.pdf)\n",
      "File already exists: Manhattan_CB2_PDFs/08-August-2020.pdf\n"
     ]
    },
    {
     "name": "stderr",
     "output_type": "stream",
     "text": [
      "cannot identify image file '/Users/chivo/Downloads/Foundations/HW/auto_update_web/Manhattan_CB2/Manhattan_CB2_PDFs/08-August-2020.pdf'\n"
     ]
    },
    {
     "name": "stdout",
     "output_type": "stream",
     "text": [
      "pdfplumber failed for 08-August-2020.pdf: No /Root object! - Is this really a PDF?\n",
      "Falling back to OCR for 08-August-2020.pdf\n",
      "OCR failed for 08-August-2020.pdf: \n",
      "Processing: July 2020 (https://cbmanhattan.cityofnewyork.us/cb2/wp-content/uploads/sites/9/2020/08/07-July-2020-Full-Board-Minutes.pdf)\n",
      "File already exists: Manhattan_CB2_PDFs/07-July-2020-Full-Board-Minutes.pdf\n"
     ]
    },
    {
     "name": "stderr",
     "output_type": "stream",
     "text": [
      "cannot identify image file '/Users/chivo/Downloads/Foundations/HW/auto_update_web/Manhattan_CB2/Manhattan_CB2_PDFs/07-July-2020-Full-Board-Minutes.pdf'\n"
     ]
    },
    {
     "name": "stdout",
     "output_type": "stream",
     "text": [
      "pdfplumber failed for 07-July-2020-Full-Board-Minutes.pdf: No /Root object! - Is this really a PDF?\n",
      "Falling back to OCR for 07-July-2020-Full-Board-Minutes.pdf\n",
      "OCR failed for 07-July-2020-Full-Board-Minutes.pdf: \n",
      "Processing: June 2020 (https://cbmanhattan.cityofnewyork.us/cb2/wp-content/uploads/sites/9/2020/07/06-June-2020.pdf)\n",
      "File already exists: Manhattan_CB2_PDFs/06-June-2020.pdf\n",
      "Processing: May 2020 (https://cbmanhattan.cityofnewyork.us/cb2/wp-content/uploads/sites/9/2020/07/05-May-2020-FB.pdf)\n",
      "File already exists: Manhattan_CB2_PDFs/05-May-2020-FB.pdf\n"
     ]
    },
    {
     "name": "stderr",
     "output_type": "stream",
     "text": [
      "cannot identify image file '/Users/chivo/Downloads/Foundations/HW/auto_update_web/Manhattan_CB2/Manhattan_CB2_PDFs/05-May-2020-FB.pdf'\n"
     ]
    },
    {
     "name": "stdout",
     "output_type": "stream",
     "text": [
      "pdfplumber failed for 05-May-2020-FB.pdf: No /Root object! - Is this really a PDF?\n",
      "Falling back to OCR for 05-May-2020-FB.pdf\n",
      "OCR failed for 05-May-2020-FB.pdf: \n",
      "Processing: April 2020 (https://cbmanhattan.cityofnewyork.us/cb2/wp-content/uploads/sites/9/2020/07/04-April-2020-FB.pdf)\n",
      "File already exists: Manhattan_CB2_PDFs/04-April-2020-FB.pdf\n"
     ]
    },
    {
     "name": "stderr",
     "output_type": "stream",
     "text": [
      "cannot identify image file '/Users/chivo/Downloads/Foundations/HW/auto_update_web/Manhattan_CB2/Manhattan_CB2_PDFs/04-April-2020-FB.pdf'\n"
     ]
    },
    {
     "name": "stdout",
     "output_type": "stream",
     "text": [
      "pdfplumber failed for 04-April-2020-FB.pdf: No /Root object! - Is this really a PDF?\n",
      "Falling back to OCR for 04-April-2020-FB.pdf\n",
      "OCR failed for 04-April-2020-FB.pdf: \n",
      "Processing: March 2020 (https://cbmanhattan.cityofnewyork.us/cb2/wp-content/uploads/sites/9/2020/05/03-March-2020-FB.pdf)\n",
      "File already exists: Manhattan_CB2_PDFs/03-March-2020-FB.pdf\n"
     ]
    },
    {
     "name": "stderr",
     "output_type": "stream",
     "text": [
      "cannot identify image file '/Users/chivo/Downloads/Foundations/HW/auto_update_web/Manhattan_CB2/Manhattan_CB2_PDFs/03-March-2020-FB.pdf'\n"
     ]
    },
    {
     "name": "stdout",
     "output_type": "stream",
     "text": [
      "pdfplumber failed for 03-March-2020-FB.pdf: No /Root object! - Is this really a PDF?\n",
      "Falling back to OCR for 03-March-2020-FB.pdf\n",
      "OCR failed for 03-March-2020-FB.pdf: \n",
      "Processing: February 2020 (https://cbmanhattan.cityofnewyork.us/cb2/wp-content/uploads/sites/9/2021/02/02-February-2020.pdf)\n",
      "File already exists: Manhattan_CB2_PDFs/02-February-2020.pdf\n"
     ]
    },
    {
     "name": "stderr",
     "output_type": "stream",
     "text": [
      "cannot identify image file '/Users/chivo/Downloads/Foundations/HW/auto_update_web/Manhattan_CB2/Manhattan_CB2_PDFs/02-February-2020.pdf'\n"
     ]
    },
    {
     "name": "stdout",
     "output_type": "stream",
     "text": [
      "pdfplumber failed for 02-February-2020.pdf: No /Root object! - Is this really a PDF?\n",
      "Falling back to OCR for 02-February-2020.pdf\n",
      "OCR failed for 02-February-2020.pdf: \n",
      "Processing: January 2020 (https://cbmanhattan.cityofnewyork.us/cb2/wp-content/uploads/sites/9/2020/04/01-January-2020.pdf)\n",
      "File already exists: Manhattan_CB2_PDFs/01-January-2020.pdf\n"
     ]
    },
    {
     "name": "stderr",
     "output_type": "stream",
     "text": [
      "cannot identify image file '/Users/chivo/Downloads/Foundations/HW/auto_update_web/Manhattan_CB2/Manhattan_CB2_PDFs/01-January-2020.pdf'\n"
     ]
    },
    {
     "name": "stdout",
     "output_type": "stream",
     "text": [
      "pdfplumber failed for 01-January-2020.pdf: No /Root object! - Is this really a PDF?\n",
      "Falling back to OCR for 01-January-2020.pdf\n",
      "OCR failed for 01-January-2020.pdf: \n",
      "Processing: December 2019 (https://cbmanhattan.cityofnewyork.us/cb2/wp-content/uploads/sites/9/2020/04/12-December-2019.pdf)\n",
      "File already exists: Manhattan_CB2_PDFs/12-December-2019.pdf\n"
     ]
    },
    {
     "name": "stderr",
     "output_type": "stream",
     "text": [
      "cannot identify image file '/Users/chivo/Downloads/Foundations/HW/auto_update_web/Manhattan_CB2/Manhattan_CB2_PDFs/12-December-2019.pdf'\n"
     ]
    },
    {
     "name": "stdout",
     "output_type": "stream",
     "text": [
      "pdfplumber failed for 12-December-2019.pdf: No /Root object! - Is this really a PDF?\n",
      "Falling back to OCR for 12-December-2019.pdf\n",
      "OCR failed for 12-December-2019.pdf: \n",
      "Processing: November 2019 (/cb2/wp-content/uploads/sites/9/downloads/pdf/fullboard_2019/11 November 2019.pdf)\n",
      "Error processing November 2019: Invalid URL '/cb2/wp-content/uploads/sites/9/downloads/pdf/fullboard_2019/11 November 2019.pdf': No schema supplied. Perhaps you meant http:///cb2/wp-content/uploads/sites/9/downloads/pdf/fullboard_2019/11 November 2019.pdf?\n",
      "Processing: October 2019 (/cb2/wp-content/uploads/sites/9/downloads/pdf/fullboard_2019/10 October 2019.pdf)\n",
      "Error processing October 2019: Invalid URL '/cb2/wp-content/uploads/sites/9/downloads/pdf/fullboard_2019/10 October 2019.pdf': No schema supplied. Perhaps you meant http:///cb2/wp-content/uploads/sites/9/downloads/pdf/fullboard_2019/10 October 2019.pdf?\n",
      "Processing: September 2019 (/cb2/wp-content/uploads/sites/9/downloads/pdf/fullboard_2019/09 September 2019.pdf)\n",
      "Error processing September 2019: Invalid URL '/cb2/wp-content/uploads/sites/9/downloads/pdf/fullboard_2019/09 September 2019.pdf': No schema supplied. Perhaps you meant http:///cb2/wp-content/uploads/sites/9/downloads/pdf/fullboard_2019/09 September 2019.pdf?\n",
      "Processing: July 2019 (/cb2/wp-content/uploads/sites/9/downloads/pdf/fullboard_2019/07 July 2019.pdf)\n",
      "Error processing July 2019: Invalid URL '/cb2/wp-content/uploads/sites/9/downloads/pdf/fullboard_2019/07 July 2019.pdf': No schema supplied. Perhaps you meant http:///cb2/wp-content/uploads/sites/9/downloads/pdf/fullboard_2019/07 July 2019.pdf?\n",
      "Processing: June 2019 (/cb2/wp-content/uploads/sites/9/downloads/pdf/fullboard_2019/06 June 2019.pdf)\n",
      "Error processing June 2019: Invalid URL '/cb2/wp-content/uploads/sites/9/downloads/pdf/fullboard_2019/06 June 2019.pdf': No schema supplied. Perhaps you meant http:///cb2/wp-content/uploads/sites/9/downloads/pdf/fullboard_2019/06 June 2019.pdf?\n",
      "Processing: May 2019 (/cb2/wp-content/uploads/sites/9/downloads/pdf/fullboard_2019/05 May 2019.pdf)\n",
      "Error processing May 2019: Invalid URL '/cb2/wp-content/uploads/sites/9/downloads/pdf/fullboard_2019/05 May 2019.pdf': No schema supplied. Perhaps you meant http:///cb2/wp-content/uploads/sites/9/downloads/pdf/fullboard_2019/05 May 2019.pdf?\n",
      "Processing: April 2019 (/cb2/wp-content/uploads/sites/9/downloads/pdf/fullboard_2019/04 April 2019.pdf)\n",
      "Error processing April 2019: Invalid URL '/cb2/wp-content/uploads/sites/9/downloads/pdf/fullboard_2019/04 April 2019.pdf': No schema supplied. Perhaps you meant http:///cb2/wp-content/uploads/sites/9/downloads/pdf/fullboard_2019/04 April 2019.pdf?\n",
      "Processing: March 2019 (/cb2/wp-content/uploads/sites/9/downloads/pdf/fullboard_2019/03 March 2019.pdf)\n",
      "Error processing March 2019: Invalid URL '/cb2/wp-content/uploads/sites/9/downloads/pdf/fullboard_2019/03 March 2019.pdf': No schema supplied. Perhaps you meant http:///cb2/wp-content/uploads/sites/9/downloads/pdf/fullboard_2019/03 March 2019.pdf?\n",
      "Processing: February 2019 (/cb2/wp-content/uploads/sites/9/downloads/pdf/fullboard_2019/02 February 2019.pdf)\n",
      "Error processing February 2019: Invalid URL '/cb2/wp-content/uploads/sites/9/downloads/pdf/fullboard_2019/02 February 2019.pdf': No schema supplied. Perhaps you meant http:///cb2/wp-content/uploads/sites/9/downloads/pdf/fullboard_2019/02 February 2019.pdf?\n",
      "Processing: January 2019 (/cb2/wp-content/uploads/sites/9/downloads/pdf/fullboard_2019/01 January 2019.pdf)\n",
      "Error processing January 2019: Invalid URL '/cb2/wp-content/uploads/sites/9/downloads/pdf/fullboard_2019/01 January 2019.pdf': No schema supplied. Perhaps you meant http:///cb2/wp-content/uploads/sites/9/downloads/pdf/fullboard_2019/01 January 2019.pdf?\n",
      "Processing: December 2018 (/cb2/wp-content/uploads/sites/9/downloads/pdf/fullboard_2018/12 December 2018.pdf)\n",
      "Error processing December 2018: Invalid URL '/cb2/wp-content/uploads/sites/9/downloads/pdf/fullboard_2018/12 December 2018.pdf': No schema supplied. Perhaps you meant http:///cb2/wp-content/uploads/sites/9/downloads/pdf/fullboard_2018/12 December 2018.pdf?\n",
      "Processing: November 2018 (/cb2/wp-content/uploads/sites/9/downloads/pdf/fullboard_2018/11 November 2018.pdf)\n",
      "Error processing November 2018: Invalid URL '/cb2/wp-content/uploads/sites/9/downloads/pdf/fullboard_2018/11 November 2018.pdf': No schema supplied. Perhaps you meant http:///cb2/wp-content/uploads/sites/9/downloads/pdf/fullboard_2018/11 November 2018.pdf?\n",
      "Processing: October 2018 (/cb2/wp-content/uploads/sites/9/downloads/pdf/fullboard_2018/10 October 2018.pdf)\n",
      "Error processing October 2018: Invalid URL '/cb2/wp-content/uploads/sites/9/downloads/pdf/fullboard_2018/10 October 2018.pdf': No schema supplied. Perhaps you meant http:///cb2/wp-content/uploads/sites/9/downloads/pdf/fullboard_2018/10 October 2018.pdf?\n",
      "Processing: September 2018 Amended (/cb2/wp-content/uploads/sites/9/downloads/pdf/fullboard_2018/09 September 2018 amended.pdf)\n",
      "Error processing September 2018 Amended: Invalid URL '/cb2/wp-content/uploads/sites/9/downloads/pdf/fullboard_2018/09 September 2018 amended.pdf': No schema supplied. Perhaps you meant http:///cb2/wp-content/uploads/sites/9/downloads/pdf/fullboard_2018/09 September 2018 amended.pdf?\n",
      "Processing: September 2018 (/cb2/wp-content/uploads/sites/9/downloads/pdf/fullboard_2018/09 September 2018.pdf)\n",
      "Error processing September 2018: Invalid URL '/cb2/wp-content/uploads/sites/9/downloads/pdf/fullboard_2018/09 September 2018.pdf': No schema supplied. Perhaps you meant http:///cb2/wp-content/uploads/sites/9/downloads/pdf/fullboard_2018/09 September 2018.pdf?\n",
      "Processing: July 2018 (/cb2/wp-content/uploads/sites/9/downloads/pdf/fullboard_2018/07 July 2018.pdf)\n",
      "Error processing July 2018: Invalid URL '/cb2/wp-content/uploads/sites/9/downloads/pdf/fullboard_2018/07 July 2018.pdf': No schema supplied. Perhaps you meant http:///cb2/wp-content/uploads/sites/9/downloads/pdf/fullboard_2018/07 July 2018.pdf?\n",
      "Processing: June 2018 (/cb2/wp-content/uploads/sites/9/downloads/pdf/fullboard_2018/06 June 2018.pdf)\n",
      "Error processing June 2018: Invalid URL '/cb2/wp-content/uploads/sites/9/downloads/pdf/fullboard_2018/06 June 2018.pdf': No schema supplied. Perhaps you meant http:///cb2/wp-content/uploads/sites/9/downloads/pdf/fullboard_2018/06 June 2018.pdf?\n",
      "Processing: May 2018 (/cb2/wp-content/uploads/sites/9/downloads/pdf/fullboard_2018/05 May 2018.pdf)\n",
      "Error processing May 2018: Invalid URL '/cb2/wp-content/uploads/sites/9/downloads/pdf/fullboard_2018/05 May 2018.pdf': No schema supplied. Perhaps you meant http:///cb2/wp-content/uploads/sites/9/downloads/pdf/fullboard_2018/05 May 2018.pdf?\n",
      "Processing: April 2018 (/cb2/wp-content/uploads/sites/9/downloads/pdf/fullboard_2018/04 April 2018.pdf)\n",
      "Error processing April 2018: Invalid URL '/cb2/wp-content/uploads/sites/9/downloads/pdf/fullboard_2018/04 April 2018.pdf': No schema supplied. Perhaps you meant http:///cb2/wp-content/uploads/sites/9/downloads/pdf/fullboard_2018/04 April 2018.pdf?\n",
      "Processing: March 2018 (/cb2/wp-content/uploads/sites/9/downloads/pdf/fullboard_2018/03 March 2018.pdf)\n",
      "Error processing March 2018: Invalid URL '/cb2/wp-content/uploads/sites/9/downloads/pdf/fullboard_2018/03 March 2018.pdf': No schema supplied. Perhaps you meant http:///cb2/wp-content/uploads/sites/9/downloads/pdf/fullboard_2018/03 March 2018.pdf?\n",
      "Processing: February 2018 (/cb2/wp-content/uploads/sites/9/downloads/pdf/fullboard_2018/02 February 2018_FB Minutes.pdf)\n",
      "Error processing February 2018: Invalid URL '/cb2/wp-content/uploads/sites/9/downloads/pdf/fullboard_2018/02 February 2018_FB Minutes.pdf': No schema supplied. Perhaps you meant http:///cb2/wp-content/uploads/sites/9/downloads/pdf/fullboard_2018/02 February 2018_FB Minutes.pdf?\n",
      "Processing: January 2018 (/cb2/wp-content/uploads/sites/9/downloads/pdf/fullboard_2018/01 January 2018.pdf)\n",
      "Error processing January 2018: Invalid URL '/cb2/wp-content/uploads/sites/9/downloads/pdf/fullboard_2018/01 January 2018.pdf': No schema supplied. Perhaps you meant http:///cb2/wp-content/uploads/sites/9/downloads/pdf/fullboard_2018/01 January 2018.pdf?\n",
      "Processing: December 2017 (/cb2/wp-content/uploads/sites/9/downloads/pdf/fullboard_2017/12 December 2017.pdf)\n",
      "Error processing December 2017: Invalid URL '/cb2/wp-content/uploads/sites/9/downloads/pdf/fullboard_2017/12 December 2017.pdf': No schema supplied. Perhaps you meant http:///cb2/wp-content/uploads/sites/9/downloads/pdf/fullboard_2017/12 December 2017.pdf?\n",
      "Processing: November 2017 (/cb2/wp-content/uploads/sites/9/downloads/pdf/fullboard_2017/11 November 2017.pdf)\n",
      "Error processing November 2017: Invalid URL '/cb2/wp-content/uploads/sites/9/downloads/pdf/fullboard_2017/11 November 2017.pdf': No schema supplied. Perhaps you meant http:///cb2/wp-content/uploads/sites/9/downloads/pdf/fullboard_2017/11 November 2017.pdf?\n",
      "Processing: October 2017 (/cb2/wp-content/uploads/sites/9/downloads/pdf/fullboard_2017/10 October 2017 A.pdf)\n",
      "Error processing October 2017: Invalid URL '/cb2/wp-content/uploads/sites/9/downloads/pdf/fullboard_2017/10 October 2017 A.pdf': No schema supplied. Perhaps you meant http:///cb2/wp-content/uploads/sites/9/downloads/pdf/fullboard_2017/10 October 2017 A.pdf?\n",
      "Processing: September 2017 (/cb2/wp-content/uploads/sites/9/downloads/pdf/fullboard_2017/09 September 2017.pdf)\n",
      "Error processing September 2017: Invalid URL '/cb2/wp-content/uploads/sites/9/downloads/pdf/fullboard_2017/09 September 2017.pdf': No schema supplied. Perhaps you meant http:///cb2/wp-content/uploads/sites/9/downloads/pdf/fullboard_2017/09 September 2017.pdf?\n",
      "Processing: July 2017 (/cb2/wp-content/uploads/sites/9/downloads/pdf/fullboard_2017/07 July 2017.pdf)\n",
      "Error processing July 2017: Invalid URL '/cb2/wp-content/uploads/sites/9/downloads/pdf/fullboard_2017/07 July 2017.pdf': No schema supplied. Perhaps you meant http:///cb2/wp-content/uploads/sites/9/downloads/pdf/fullboard_2017/07 July 2017.pdf?\n",
      "Processing: June 2017 (/cb2/wp-content/uploads/sites/9/downloads/pdf/fullboard_2017/07 June 2017.pdf)\n",
      "Error processing June 2017: Invalid URL '/cb2/wp-content/uploads/sites/9/downloads/pdf/fullboard_2017/07 June 2017.pdf': No schema supplied. Perhaps you meant http:///cb2/wp-content/uploads/sites/9/downloads/pdf/fullboard_2017/07 June 2017.pdf?\n",
      "Processing: May 2017 (/cb2/wp-content/uploads/sites/9/downloads/pdf/fullboard_2017/05 May 2017.pdf)\n",
      "Error processing May 2017: Invalid URL '/cb2/wp-content/uploads/sites/9/downloads/pdf/fullboard_2017/05 May 2017.pdf': No schema supplied. Perhaps you meant http:///cb2/wp-content/uploads/sites/9/downloads/pdf/fullboard_2017/05 May 2017.pdf?\n",
      "Processing: April 2017 (/cb2/wp-content/uploads/sites/9/downloads/pdf/fullboard_2017/04 April 2017.pdf)\n",
      "Error processing April 2017: Invalid URL '/cb2/wp-content/uploads/sites/9/downloads/pdf/fullboard_2017/04 April 2017.pdf': No schema supplied. Perhaps you meant http:///cb2/wp-content/uploads/sites/9/downloads/pdf/fullboard_2017/04 April 2017.pdf?\n",
      "Processing: March 2017 (/cb2/wp-content/uploads/sites/9/downloads/pdf/fullboard_2017/03 March 2017.pdf)\n",
      "Error processing March 2017: Invalid URL '/cb2/wp-content/uploads/sites/9/downloads/pdf/fullboard_2017/03 March 2017.pdf': No schema supplied. Perhaps you meant http:///cb2/wp-content/uploads/sites/9/downloads/pdf/fullboard_2017/03 March 2017.pdf?\n",
      "Processing: February 2017 (/cb2/wp-content/uploads/sites/9/downloads/pdf/fullboard_2017/02 February 2017.pdf)\n",
      "Error processing February 2017: Invalid URL '/cb2/wp-content/uploads/sites/9/downloads/pdf/fullboard_2017/02 February 2017.pdf': No schema supplied. Perhaps you meant http:///cb2/wp-content/uploads/sites/9/downloads/pdf/fullboard_2017/02 February 2017.pdf?\n",
      "Processing: January 2017 (/cb2/wp-content/uploads/sites/9/downloads/pdf/fullboard_2017/01 January 2017.pdf)\n",
      "Error processing January 2017: Invalid URL '/cb2/wp-content/uploads/sites/9/downloads/pdf/fullboard_2017/01 January 2017.pdf': No schema supplied. Perhaps you meant http:///cb2/wp-content/uploads/sites/9/downloads/pdf/fullboard_2017/01 January 2017.pdf?\n",
      "Processing: December 2016 (/cb2/wp-content/uploads/sites/9/downloads/pdf/fullboard_2016/12 December 2016.pdf)\n",
      "Error processing December 2016: Invalid URL '/cb2/wp-content/uploads/sites/9/downloads/pdf/fullboard_2016/12 December 2016.pdf': No schema supplied. Perhaps you meant http:///cb2/wp-content/uploads/sites/9/downloads/pdf/fullboard_2016/12 December 2016.pdf?\n",
      "Processing: November 2016 (/cb2/wp-content/uploads/sites/9/downloads/pdf/fullboard_2016/11 November 2016 (a).pdf)\n",
      "Error processing November 2016: Invalid URL '/cb2/wp-content/uploads/sites/9/downloads/pdf/fullboard_2016/11 November 2016 (a).pdf': No schema supplied. Perhaps you meant http:///cb2/wp-content/uploads/sites/9/downloads/pdf/fullboard_2016/11 November 2016 (a).pdf?\n",
      "Processing: October 2016 (/cb2/wp-content/uploads/sites/9/downloads/pdf/fullboard_2016/10 October 2016 A.pdf)\n",
      "Error processing October 2016: Invalid URL '/cb2/wp-content/uploads/sites/9/downloads/pdf/fullboard_2016/10 October 2016 A.pdf': No schema supplied. Perhaps you meant http:///cb2/wp-content/uploads/sites/9/downloads/pdf/fullboard_2016/10 October 2016 A.pdf?\n",
      "Processing: September 2016 (/cb2/wp-content/uploads/sites/9/downloads/pdf/fullboard_2016/09 September 2016.pdf)\n",
      "Error processing September 2016: Invalid URL '/cb2/wp-content/uploads/sites/9/downloads/pdf/fullboard_2016/09 September 2016.pdf': No schema supplied. Perhaps you meant http:///cb2/wp-content/uploads/sites/9/downloads/pdf/fullboard_2016/09 September 2016.pdf?\n",
      "Processing: July 2016 (/cb2/wp-content/uploads/sites/9/downloads/pdf/fullboard_2016/07 July 2016.pdf)\n",
      "Error processing July 2016: Invalid URL '/cb2/wp-content/uploads/sites/9/downloads/pdf/fullboard_2016/07 July 2016.pdf': No schema supplied. Perhaps you meant http:///cb2/wp-content/uploads/sites/9/downloads/pdf/fullboard_2016/07 July 2016.pdf?\n",
      "Processing: June 2016 (/cb2/wp-content/uploads/sites/9/downloads/pdf/fullboard_2016/06 June 2016.pdf)\n",
      "Error processing June 2016: Invalid URL '/cb2/wp-content/uploads/sites/9/downloads/pdf/fullboard_2016/06 June 2016.pdf': No schema supplied. Perhaps you meant http:///cb2/wp-content/uploads/sites/9/downloads/pdf/fullboard_2016/06 June 2016.pdf?\n",
      "Processing: May 2016 (/cb2/wp-content/uploads/sites/9/downloads/pdf/fullboard_2016/05 May 2016.pdf)\n",
      "Error processing May 2016: Invalid URL '/cb2/wp-content/uploads/sites/9/downloads/pdf/fullboard_2016/05 May 2016.pdf': No schema supplied. Perhaps you meant http:///cb2/wp-content/uploads/sites/9/downloads/pdf/fullboard_2016/05 May 2016.pdf?\n",
      "Processing: April 2016 (/cb2/wp-content/uploads/sites/9/downloads/pdf/fullboard_2016/04 April 2016.pdf)\n",
      "Error processing April 2016: Invalid URL '/cb2/wp-content/uploads/sites/9/downloads/pdf/fullboard_2016/04 April 2016.pdf': No schema supplied. Perhaps you meant http:///cb2/wp-content/uploads/sites/9/downloads/pdf/fullboard_2016/04 April 2016.pdf?\n",
      "Processing: March 2016 (/cb2/wp-content/uploads/sites/9/downloads/pdf/fullboard_2016/03 March 2016.pdf)\n",
      "Error processing March 2016: Invalid URL '/cb2/wp-content/uploads/sites/9/downloads/pdf/fullboard_2016/03 March 2016.pdf': No schema supplied. Perhaps you meant http:///cb2/wp-content/uploads/sites/9/downloads/pdf/fullboard_2016/03 March 2016.pdf?\n",
      "Processing: February 2016 (/cb2/wp-content/uploads/sites/9/downloads/pdf/fullboard_2016/02 February 2016.pdf)\n",
      "Error processing February 2016: Invalid URL '/cb2/wp-content/uploads/sites/9/downloads/pdf/fullboard_2016/02 February 2016.pdf': No schema supplied. Perhaps you meant http:///cb2/wp-content/uploads/sites/9/downloads/pdf/fullboard_2016/02 February 2016.pdf?\n",
      "Processing: January 2016 (/cb2/wp-content/uploads/sites/9/downloads/pdf/fullboard_2016/01 January 2016.pdf)\n",
      "Error processing January 2016: Invalid URL '/cb2/wp-content/uploads/sites/9/downloads/pdf/fullboard_2016/01 January 2016.pdf': No schema supplied. Perhaps you meant http:///cb2/wp-content/uploads/sites/9/downloads/pdf/fullboard_2016/01 January 2016.pdf?\n",
      "Processing: December 2015 (/cb2/wp-content/uploads/sites/9/downloads/pdf/full board 2015/12 December 2015.pdf)\n",
      "Error processing December 2015: Invalid URL '/cb2/wp-content/uploads/sites/9/downloads/pdf/full board 2015/12 December 2015.pdf': No schema supplied. Perhaps you meant http:///cb2/wp-content/uploads/sites/9/downloads/pdf/full board 2015/12 December 2015.pdf?\n",
      "Processing: November 2015 (/cb2/wp-content/uploads/sites/9/downloads/pdf/full board 2015/11 November 2015.pdf)\n",
      "Error processing November 2015: Invalid URL '/cb2/wp-content/uploads/sites/9/downloads/pdf/full board 2015/11 November 2015.pdf': No schema supplied. Perhaps you meant http:///cb2/wp-content/uploads/sites/9/downloads/pdf/full board 2015/11 November 2015.pdf?\n",
      "Processing: October 2015 (/cb2/wp-content/uploads/sites/9/downloads/pdf/full board 2015/10 October 2015.pdf)\n",
      "Error processing October 2015: Invalid URL '/cb2/wp-content/uploads/sites/9/downloads/pdf/full board 2015/10 October 2015.pdf': No schema supplied. Perhaps you meant http:///cb2/wp-content/uploads/sites/9/downloads/pdf/full board 2015/10 October 2015.pdf?\n",
      "Processing: September 2015 (/cb2/wp-content/uploads/sites/9/downloads/pdf/full board 2015/09 September 2015.pdf)\n",
      "Error processing September 2015: Invalid URL '/cb2/wp-content/uploads/sites/9/downloads/pdf/full board 2015/09 September 2015.pdf': No schema supplied. Perhaps you meant http:///cb2/wp-content/uploads/sites/9/downloads/pdf/full board 2015/09 September 2015.pdf?\n",
      "Processing: July 2015 (/cb2/wp-content/uploads/sites/9/downloads/pdf/full board 2015/07 July 2015.pdf)\n",
      "Error processing July 2015: Invalid URL '/cb2/wp-content/uploads/sites/9/downloads/pdf/full board 2015/07 July 2015.pdf': No schema supplied. Perhaps you meant http:///cb2/wp-content/uploads/sites/9/downloads/pdf/full board 2015/07 July 2015.pdf?\n",
      "Processing: June 2015 (/cb2/wp-content/uploads/sites/9/downloads/pdf/full board 2015/June 2015_fullboard.pdf)\n",
      "Error processing June 2015: Invalid URL '/cb2/wp-content/uploads/sites/9/downloads/pdf/full board 2015/June 2015_fullboard.pdf': No schema supplied. Perhaps you meant http:///cb2/wp-content/uploads/sites/9/downloads/pdf/full board 2015/June 2015_fullboard.pdf?\n",
      "Processing: May 2015 (/cb2/wp-content/uploads/sites/9/downloads/pdf/full board 2015/05 May 2015_fullboard.pdf)\n",
      "Error processing May 2015: Invalid URL '/cb2/wp-content/uploads/sites/9/downloads/pdf/full board 2015/05 May 2015_fullboard.pdf': No schema supplied. Perhaps you meant http:///cb2/wp-content/uploads/sites/9/downloads/pdf/full board 2015/05 May 2015_fullboard.pdf?\n",
      "Processing: April 2015 (/cb2/wp-content/uploads/sites/9/downloads/pdf/full board 2015/04 April 2015.pdf)\n",
      "Error processing April 2015: Invalid URL '/cb2/wp-content/uploads/sites/9/downloads/pdf/full board 2015/04 April 2015.pdf': No schema supplied. Perhaps you meant http:///cb2/wp-content/uploads/sites/9/downloads/pdf/full board 2015/04 April 2015.pdf?\n",
      "Processing: March 2015 (/cb2/wp-content/uploads/sites/9/downloads/pdf/full board 2015/03march 2015_fullboard.pdf)\n",
      "Error processing March 2015: Invalid URL '/cb2/wp-content/uploads/sites/9/downloads/pdf/full board 2015/03march 2015_fullboard.pdf': No schema supplied. Perhaps you meant http:///cb2/wp-content/uploads/sites/9/downloads/pdf/full board 2015/03march 2015_fullboard.pdf?\n",
      "Processing: February 2015 (/cb2/wp-content/uploads/sites/9/downloads/pdf/full board 2015/02february2015_fullboard.pdf)\n",
      "Error processing February 2015: Invalid URL '/cb2/wp-content/uploads/sites/9/downloads/pdf/full board 2015/02february2015_fullboard.pdf': No schema supplied. Perhaps you meant http:///cb2/wp-content/uploads/sites/9/downloads/pdf/full board 2015/02february2015_fullboard.pdf?\n",
      "Processing: January 2015 (/cb2/wp-content/uploads/sites/9/downloads/pdf/full board 2015/01 January 2015 full board.pdf)\n",
      "Error processing January 2015: Invalid URL '/cb2/wp-content/uploads/sites/9/downloads/pdf/full board 2015/01 January 2015 full board.pdf': No schema supplied. Perhaps you meant http:///cb2/wp-content/uploads/sites/9/downloads/pdf/full board 2015/01 January 2015 full board.pdf?\n",
      "Processing: December 2014 (/cb2/wp-content/uploads/sites/9/downloads/pdf/fullboard_2014/12 December 2014 full board.pdf)\n",
      "Error processing December 2014: Invalid URL '/cb2/wp-content/uploads/sites/9/downloads/pdf/fullboard_2014/12 December 2014 full board.pdf': No schema supplied. Perhaps you meant http:///cb2/wp-content/uploads/sites/9/downloads/pdf/fullboard_2014/12 December 2014 full board.pdf?\n",
      "Processing: November 2014 (/cb2/wp-content/uploads/sites/9/downloads/pdf/fullboard_2014/11 November 2014.pdf)\n",
      "Error processing November 2014: Invalid URL '/cb2/wp-content/uploads/sites/9/downloads/pdf/fullboard_2014/11 November 2014.pdf': No schema supplied. Perhaps you meant http:///cb2/wp-content/uploads/sites/9/downloads/pdf/fullboard_2014/11 November 2014.pdf?\n",
      "Processing: October 2014 (/cb2/wp-content/uploads/sites/9/downloads/pdf/fullboard_2014/10 October 2014.pdf)\n",
      "Error processing October 2014: Invalid URL '/cb2/wp-content/uploads/sites/9/downloads/pdf/fullboard_2014/10 October 2014.pdf': No schema supplied. Perhaps you meant http:///cb2/wp-content/uploads/sites/9/downloads/pdf/fullboard_2014/10 October 2014.pdf?\n",
      "Processing: September 2014 (/cb2/wp-content/uploads/sites/9/downloads/pdf/fullboard_2014/09september 2014_fullboard.pdf)\n",
      "Error processing September 2014: Invalid URL '/cb2/wp-content/uploads/sites/9/downloads/pdf/fullboard_2014/09september 2014_fullboard.pdf': No schema supplied. Perhaps you meant http:///cb2/wp-content/uploads/sites/9/downloads/pdf/fullboard_2014/09september 2014_fullboard.pdf?\n",
      "Processing: July 2014 (/cb2/wp-content/uploads/sites/9/downloads/pdf/fullboard_2014/07 July 2014.pdf)\n",
      "Error processing July 2014: Invalid URL '/cb2/wp-content/uploads/sites/9/downloads/pdf/fullboard_2014/07 July 2014.pdf': No schema supplied. Perhaps you meant http:///cb2/wp-content/uploads/sites/9/downloads/pdf/fullboard_2014/07 July 2014.pdf?\n",
      "Processing: June 2014 (/cb2/wp-content/uploads/sites/9/downloads/pdf/fullboard_2014/06 June 2014.pdf)\n",
      "Error processing June 2014: Invalid URL '/cb2/wp-content/uploads/sites/9/downloads/pdf/fullboard_2014/06 June 2014.pdf': No schema supplied. Perhaps you meant http:///cb2/wp-content/uploads/sites/9/downloads/pdf/fullboard_2014/06 June 2014.pdf?\n",
      "Processing: May 2014 (/cb2/wp-content/uploads/sites/9/downloads/pdf/fullboard_2014/05 May 2014_fullboard.pdf)\n",
      "Error processing May 2014: Invalid URL '/cb2/wp-content/uploads/sites/9/downloads/pdf/fullboard_2014/05 May 2014_fullboard.pdf': No schema supplied. Perhaps you meant http:///cb2/wp-content/uploads/sites/9/downloads/pdf/fullboard_2014/05 May 2014_fullboard.pdf?\n",
      "Processing: April 2014 (/cb2/wp-content/uploads/sites/9/downloads/pdf/fullboard_2014/04 April 2014.pdf)\n",
      "Error processing April 2014: Invalid URL '/cb2/wp-content/uploads/sites/9/downloads/pdf/fullboard_2014/04 April 2014.pdf': No schema supplied. Perhaps you meant http:///cb2/wp-content/uploads/sites/9/downloads/pdf/fullboard_2014/04 April 2014.pdf?\n",
      "Processing: March 2014 (/cb2/wp-content/uploads/sites/9/downloads/pdf/fullboard_2014/03march2014_fullboard.pdf)\n",
      "Error processing March 2014: Invalid URL '/cb2/wp-content/uploads/sites/9/downloads/pdf/fullboard_2014/03march2014_fullboard.pdf': No schema supplied. Perhaps you meant http:///cb2/wp-content/uploads/sites/9/downloads/pdf/fullboard_2014/03march2014_fullboard.pdf?\n",
      "Processing: February 2014 (/cb2/wp-content/uploads/sites/9/downloads/pdf/fullboard_2014/02february2014_fullboard.pdf)\n",
      "Error processing February 2014: Invalid URL '/cb2/wp-content/uploads/sites/9/downloads/pdf/fullboard_2014/02february2014_fullboard.pdf': No schema supplied. Perhaps you meant http:///cb2/wp-content/uploads/sites/9/downloads/pdf/fullboard_2014/02february2014_fullboard.pdf?\n",
      "Processing: January 2014 (/cb2/wp-content/uploads/sites/9/downloads/pdf/fullboard_2014/01january2014_fullboard.pdf)\n",
      "Error processing January 2014: Invalid URL '/cb2/wp-content/uploads/sites/9/downloads/pdf/fullboard_2014/01january2014_fullboard.pdf': No schema supplied. Perhaps you meant http:///cb2/wp-content/uploads/sites/9/downloads/pdf/fullboard_2014/01january2014_fullboard.pdf?\n",
      "Processing: December 2013 (/cb2/wp-content/uploads/sites/9/downloads/pdf/fullboard_2013/12 December 2013.pdf)\n",
      "Error processing December 2013: Invalid URL '/cb2/wp-content/uploads/sites/9/downloads/pdf/fullboard_2013/12 December 2013.pdf': No schema supplied. Perhaps you meant http:///cb2/wp-content/uploads/sites/9/downloads/pdf/fullboard_2013/12 December 2013.pdf?\n",
      "Processing: November 2013 (/cb2/wp-content/uploads/sites/9/downloads/pdf/fullboard_2013/11november2013.pdf)\n",
      "Error processing November 2013: Invalid URL '/cb2/wp-content/uploads/sites/9/downloads/pdf/fullboard_2013/11november2013.pdf': No schema supplied. Perhaps you meant http:///cb2/wp-content/uploads/sites/9/downloads/pdf/fullboard_2013/11november2013.pdf?\n",
      "Processing: October 2013 (/cb2/wp-content/uploads/sites/9/downloads/pdf/fullboard_2013/10october2013_fullboard.pdf)\n",
      "Error processing October 2013: Invalid URL '/cb2/wp-content/uploads/sites/9/downloads/pdf/fullboard_2013/10october2013_fullboard.pdf': No schema supplied. Perhaps you meant http:///cb2/wp-content/uploads/sites/9/downloads/pdf/fullboard_2013/10october2013_fullboard.pdf?\n",
      "Processing: September 2013 (/cb2/wp-content/uploads/sites/9/downloads/pdf/fullboard_2013/09september2013_fullboard.pdf)\n",
      "Error processing September 2013: Invalid URL '/cb2/wp-content/uploads/sites/9/downloads/pdf/fullboard_2013/09september2013_fullboard.pdf': No schema supplied. Perhaps you meant http:///cb2/wp-content/uploads/sites/9/downloads/pdf/fullboard_2013/09september2013_fullboard.pdf?\n",
      "Processing: July 2013 (/cb2/wp-content/uploads/sites/9/downloads/pdf/fullboard_2013/07july2013_fullboard.pdf)\n",
      "Error processing July 2013: Invalid URL '/cb2/wp-content/uploads/sites/9/downloads/pdf/fullboard_2013/07july2013_fullboard.pdf': No schema supplied. Perhaps you meant http:///cb2/wp-content/uploads/sites/9/downloads/pdf/fullboard_2013/07july2013_fullboard.pdf?\n",
      "Processing: June 2013 (/cb2/wp-content/uploads/sites/9/downloads/pdf/fullboard_2013/06june2013_fullboard.pdf)\n",
      "Error processing June 2013: Invalid URL '/cb2/wp-content/uploads/sites/9/downloads/pdf/fullboard_2013/06june2013_fullboard.pdf': No schema supplied. Perhaps you meant http:///cb2/wp-content/uploads/sites/9/downloads/pdf/fullboard_2013/06june2013_fullboard.pdf?\n",
      "Processing: May 2013 (/cb2/wp-content/uploads/sites/9/downloads/pdf/fullboard_2013/05may2013_fullboard.pdf)\n",
      "Error processing May 2013: Invalid URL '/cb2/wp-content/uploads/sites/9/downloads/pdf/fullboard_2013/05may2013_fullboard.pdf': No schema supplied. Perhaps you meant http:///cb2/wp-content/uploads/sites/9/downloads/pdf/fullboard_2013/05may2013_fullboard.pdf?\n",
      "Processing: April 2013 (/cb2/wp-content/uploads/sites/9/downloads/pdf/fullboard_2013/04april2013_fullboard.pdf)\n",
      "Error processing April 2013: Invalid URL '/cb2/wp-content/uploads/sites/9/downloads/pdf/fullboard_2013/04april2013_fullboard.pdf': No schema supplied. Perhaps you meant http:///cb2/wp-content/uploads/sites/9/downloads/pdf/fullboard_2013/04april2013_fullboard.pdf?\n",
      "Processing: March 2013 (/cb2/wp-content/uploads/sites/9/downloads/pdf/fullboard_2013/03march2013_fullboard.pdf)\n",
      "Error processing March 2013: Invalid URL '/cb2/wp-content/uploads/sites/9/downloads/pdf/fullboard_2013/03march2013_fullboard.pdf': No schema supplied. Perhaps you meant http:///cb2/wp-content/uploads/sites/9/downloads/pdf/fullboard_2013/03march2013_fullboard.pdf?\n",
      "Processing: February 2013 (/cb2/wp-content/uploads/sites/9/downloads/pdf/fullboard_2013/02february2013_fullboard.pdf)\n",
      "Error processing February 2013: Invalid URL '/cb2/wp-content/uploads/sites/9/downloads/pdf/fullboard_2013/02february2013_fullboard.pdf': No schema supplied. Perhaps you meant http:///cb2/wp-content/uploads/sites/9/downloads/pdf/fullboard_2013/02february2013_fullboard.pdf?\n",
      "Processing: January 2013 (/cb2/wp-content/uploads/sites/9/downloads/pdf/fullboard_2013/01january2013_fullboard.pdf)\n",
      "Error processing January 2013: Invalid URL '/cb2/wp-content/uploads/sites/9/downloads/pdf/fullboard_2013/01january2013_fullboard.pdf': No schema supplied. Perhaps you meant http:///cb2/wp-content/uploads/sites/9/downloads/pdf/fullboard_2013/01january2013_fullboard.pdf?\n",
      "Processing: December 2012 (/cb2/wp-content/uploads/sites/9/downloads/pdf/fullboard_2012/12december2012_fullboard.pdf)\n",
      "Error processing December 2012: Invalid URL '/cb2/wp-content/uploads/sites/9/downloads/pdf/fullboard_2012/12december2012_fullboard.pdf': No schema supplied. Perhaps you meant http:///cb2/wp-content/uploads/sites/9/downloads/pdf/fullboard_2012/12december2012_fullboard.pdf?\n",
      "Processing: November 2012 (/cb2/wp-content/uploads/sites/9/downloads/pdf/fullboard_2012/fullboard_112012.pdf)\n",
      "Error processing November 2012: Invalid URL '/cb2/wp-content/uploads/sites/9/downloads/pdf/fullboard_2012/fullboard_112012.pdf': No schema supplied. Perhaps you meant http:///cb2/wp-content/uploads/sites/9/downloads/pdf/fullboard_2012/fullboard_112012.pdf?\n",
      "Processing: October 2012 (/cb2/wp-content/uploads/sites/9/downloads/pdf/fullboard_2012/fullboard_1012.pdf)\n",
      "Error processing October 2012: Invalid URL '/cb2/wp-content/uploads/sites/9/downloads/pdf/fullboard_2012/fullboard_1012.pdf': No schema supplied. Perhaps you meant http:///cb2/wp-content/uploads/sites/9/downloads/pdf/fullboard_2012/fullboard_1012.pdf?\n",
      "Processing: September 2012 (/cb2/wp-content/uploads/sites/9/downloads/pdf/fullboard_2012/fullboard_0912.pdf)\n",
      "Error processing September 2012: Invalid URL '/cb2/wp-content/uploads/sites/9/downloads/pdf/fullboard_2012/fullboard_0912.pdf': No schema supplied. Perhaps you meant http:///cb2/wp-content/uploads/sites/9/downloads/pdf/fullboard_2012/fullboard_0912.pdf?\n",
      "Processing: July 2012 (/cb2/wp-content/uploads/sites/9/downloads/pdf/fullboard_2012/07fullboard_0712.pdf)\n",
      "Error processing July 2012: Invalid URL '/cb2/wp-content/uploads/sites/9/downloads/pdf/fullboard_2012/07fullboard_0712.pdf': No schema supplied. Perhaps you meant http:///cb2/wp-content/uploads/sites/9/downloads/pdf/fullboard_2012/07fullboard_0712.pdf?\n",
      "Processing: June 2012 (/cb2/wp-content/uploads/sites/9/downloads/pdf/fullboard_2012/06june2012_fullboard.pdf)\n",
      "Error processing June 2012: Invalid URL '/cb2/wp-content/uploads/sites/9/downloads/pdf/fullboard_2012/06june2012_fullboard.pdf': No schema supplied. Perhaps you meant http:///cb2/wp-content/uploads/sites/9/downloads/pdf/fullboard_2012/06june2012_fullboard.pdf?\n",
      "Processing: May 2012 (/cb2/wp-content/uploads/sites/9/downloads/pdf/fullboard_2012/05may2012_fullboard.pdf)\n",
      "Error processing May 2012: Invalid URL '/cb2/wp-content/uploads/sites/9/downloads/pdf/fullboard_2012/05may2012_fullboard.pdf': No schema supplied. Perhaps you meant http:///cb2/wp-content/uploads/sites/9/downloads/pdf/fullboard_2012/05may2012_fullboard.pdf?\n",
      "Processing: April 2012 (/cb2/wp-content/uploads/sites/9/downloads/pdf/fullboard_2012/04april2012.pdf)\n",
      "Error processing April 2012: Invalid URL '/cb2/wp-content/uploads/sites/9/downloads/pdf/fullboard_2012/04april2012.pdf': No schema supplied. Perhaps you meant http:///cb2/wp-content/uploads/sites/9/downloads/pdf/fullboard_2012/04april2012.pdf?\n",
      "Processing: March 2012 (/cb2/wp-content/uploads/sites/9/downloads/pdf/fullboard_2012/03march2012_fullboard.pdf)\n",
      "Error processing March 2012: Invalid URL '/cb2/wp-content/uploads/sites/9/downloads/pdf/fullboard_2012/03march2012_fullboard.pdf': No schema supplied. Perhaps you meant http:///cb2/wp-content/uploads/sites/9/downloads/pdf/fullboard_2012/03march2012_fullboard.pdf?\n",
      "Processing: February 2012 (/cb2/wp-content/uploads/sites/9/downloads/pdf/fullboard_2012/02february2012_fullboard.pdf)\n",
      "Error processing February 2012: Invalid URL '/cb2/wp-content/uploads/sites/9/downloads/pdf/fullboard_2012/02february2012_fullboard.pdf': No schema supplied. Perhaps you meant http:///cb2/wp-content/uploads/sites/9/downloads/pdf/fullboard_2012/02february2012_fullboard.pdf?\n",
      "Processing: January 2012 (/cb2/wp-content/uploads/sites/9/downloads/pdf/fullboard_2012/01january2012_fullboard.pdf)\n",
      "Error processing January 2012: Invalid URL '/cb2/wp-content/uploads/sites/9/downloads/pdf/fullboard_2012/01january2012_fullboard.pdf': No schema supplied. Perhaps you meant http:///cb2/wp-content/uploads/sites/9/downloads/pdf/fullboard_2012/01january2012_fullboard.pdf?\n",
      "Processing: December 2011 (/cb2/wp-content/uploads/sites/9/downloads/pdf/fullboard_2011/12december2011_fullboard.pdf)\n",
      "Error processing December 2011: Invalid URL '/cb2/wp-content/uploads/sites/9/downloads/pdf/fullboard_2011/12december2011_fullboard.pdf': No schema supplied. Perhaps you meant http:///cb2/wp-content/uploads/sites/9/downloads/pdf/fullboard_2011/12december2011_fullboard.pdf?\n",
      "Processing: November 2011 (/cb2/wp-content/uploads/sites/9/downloads/pdf/fullboard_2011/november2011_fullboard.pdf)\n",
      "Error processing November 2011: Invalid URL '/cb2/wp-content/uploads/sites/9/downloads/pdf/fullboard_2011/november2011_fullboard.pdf': No schema supplied. Perhaps you meant http:///cb2/wp-content/uploads/sites/9/downloads/pdf/fullboard_2011/november2011_fullboard.pdf?\n",
      "Processing: October 2011 (/cb2/wp-content/uploads/sites/9/downloads/pdf/fullboard_2011/10october2011_fullboard.pdf)\n",
      "Error processing October 2011: Invalid URL '/cb2/wp-content/uploads/sites/9/downloads/pdf/fullboard_2011/10october2011_fullboard.pdf': No schema supplied. Perhaps you meant http:///cb2/wp-content/uploads/sites/9/downloads/pdf/fullboard_2011/10october2011_fullboard.pdf?\n",
      "Processing: September 2011 (/cb2/wp-content/uploads/sites/9/downloads/pdf/fullboard_2011/09september2011fullboard.pdf)\n",
      "Error processing September 2011: Invalid URL '/cb2/wp-content/uploads/sites/9/downloads/pdf/fullboard_2011/09september2011fullboard.pdf': No schema supplied. Perhaps you meant http:///cb2/wp-content/uploads/sites/9/downloads/pdf/fullboard_2011/09september2011fullboard.pdf?\n",
      "Processing: July 2011 (/cb2/wp-content/uploads/sites/9/downloads/pdf/fullboard_2011/july2011_fullboard.pdf)\n",
      "Error processing July 2011: Invalid URL '/cb2/wp-content/uploads/sites/9/downloads/pdf/fullboard_2011/july2011_fullboard.pdf': No schema supplied. Perhaps you meant http:///cb2/wp-content/uploads/sites/9/downloads/pdf/fullboard_2011/july2011_fullboard.pdf?\n",
      "Processing: June 2011 (/cb2/wp-content/uploads/sites/9/downloads/pdf/fullboard_2011/06june2011_fullboard.pdf)\n",
      "Error processing June 2011: Invalid URL '/cb2/wp-content/uploads/sites/9/downloads/pdf/fullboard_2011/06june2011_fullboard.pdf': No schema supplied. Perhaps you meant http:///cb2/wp-content/uploads/sites/9/downloads/pdf/fullboard_2011/06june2011_fullboard.pdf?\n",
      "Processing: May 2011 (/cb2/wp-content/uploads/sites/9/downloads/pdf/fullboard_2011/05may2011_fullboard.pdf)\n",
      "Error processing May 2011: Invalid URL '/cb2/wp-content/uploads/sites/9/downloads/pdf/fullboard_2011/05may2011_fullboard.pdf': No schema supplied. Perhaps you meant http:///cb2/wp-content/uploads/sites/9/downloads/pdf/fullboard_2011/05may2011_fullboard.pdf?\n",
      "Processing: April 2011 (/cb2/wp-content/uploads/sites/9/downloads/pdf/fullboard_2011/04april2011_fullboard.pdf)\n",
      "Error processing April 2011: Invalid URL '/cb2/wp-content/uploads/sites/9/downloads/pdf/fullboard_2011/04april2011_fullboard.pdf': No schema supplied. Perhaps you meant http:///cb2/wp-content/uploads/sites/9/downloads/pdf/fullboard_2011/04april2011_fullboard.pdf?\n",
      "Processing: March 2011 (/cb2/wp-content/uploads/sites/9/downloads/pdf/fullboard_2011/march2011_fullboard.pdf)\n",
      "Error processing March 2011: Invalid URL '/cb2/wp-content/uploads/sites/9/downloads/pdf/fullboard_2011/march2011_fullboard.pdf': No schema supplied. Perhaps you meant http:///cb2/wp-content/uploads/sites/9/downloads/pdf/fullboard_2011/march2011_fullboard.pdf?\n",
      "Processing: February 2011 (/cb2/wp-content/uploads/sites/9/downloads/pdf/fullboard_2011/02february2011_fullboard.pdf)\n",
      "Error processing February 2011: Invalid URL '/cb2/wp-content/uploads/sites/9/downloads/pdf/fullboard_2011/02february2011_fullboard.pdf': No schema supplied. Perhaps you meant http:///cb2/wp-content/uploads/sites/9/downloads/pdf/fullboard_2011/02february2011_fullboard.pdf?\n",
      "Processing: January 2011 (/cb2/wp-content/uploads/sites/9/downloads/pdf/fullboard_2011/01january2011fb.pdf)\n",
      "Error processing January 2011: Invalid URL '/cb2/wp-content/uploads/sites/9/downloads/pdf/fullboard_2011/01january2011fb.pdf': No schema supplied. Perhaps you meant http:///cb2/wp-content/uploads/sites/9/downloads/pdf/fullboard_2011/01january2011fb.pdf?\n",
      "Processing: December 2010 (/cb2/wp-content/uploads/sites/9/downloads/pdf/fullboard_2010/12_fullboard_december2010.pdf)\n",
      "Error processing December 2010: Invalid URL '/cb2/wp-content/uploads/sites/9/downloads/pdf/fullboard_2010/12_fullboard_december2010.pdf': No schema supplied. Perhaps you meant http:///cb2/wp-content/uploads/sites/9/downloads/pdf/fullboard_2010/12_fullboard_december2010.pdf?\n",
      "Processing: November 2010 (/cb2/wp-content/uploads/sites/9/downloads/pdf/fullboard_2010/fullboard_november_2010.pdf)\n",
      "Error processing November 2010: Invalid URL '/cb2/wp-content/uploads/sites/9/downloads/pdf/fullboard_2010/fullboard_november_2010.pdf': No schema supplied. Perhaps you meant http:///cb2/wp-content/uploads/sites/9/downloads/pdf/fullboard_2010/fullboard_november_2010.pdf?\n",
      "Processing: October 2010 (/cb2/wp-content/uploads/sites/9/downloads/pdf/fullboard_2010/10_october2010_fullboard.pdf)\n",
      "Error processing October 2010: Invalid URL '/cb2/wp-content/uploads/sites/9/downloads/pdf/fullboard_2010/10_october2010_fullboard.pdf': No schema supplied. Perhaps you meant http:///cb2/wp-content/uploads/sites/9/downloads/pdf/fullboard_2010/10_october2010_fullboard.pdf?\n",
      "Processing: September 2010 (/cb2/wp-content/uploads/sites/9/downloads/pdf/fullboard_2010/09_september_2010_fullboardminutes.pdf)\n",
      "Error processing September 2010: Invalid URL '/cb2/wp-content/uploads/sites/9/downloads/pdf/fullboard_2010/09_september_2010_fullboardminutes.pdf': No schema supplied. Perhaps you meant http:///cb2/wp-content/uploads/sites/9/downloads/pdf/fullboard_2010/09_september_2010_fullboardminutes.pdf?\n",
      "Processing: July 2010 (/cb2/wp-content/uploads/sites/9/downloads/pdf/fullboard_2010/fullboard072010.pdf)\n",
      "Error processing July 2010: Invalid URL '/cb2/wp-content/uploads/sites/9/downloads/pdf/fullboard_2010/fullboard072010.pdf': No schema supplied. Perhaps you meant http:///cb2/wp-content/uploads/sites/9/downloads/pdf/fullboard_2010/fullboard072010.pdf?\n",
      "Processing: June 2010 (/cb2/wp-content/uploads/sites/9/downloads/pdf/fullboard_2010/june2010_fullboardminutes.pdf)\n",
      "Error processing June 2010: Invalid URL '/cb2/wp-content/uploads/sites/9/downloads/pdf/fullboard_2010/june2010_fullboardminutes.pdf': No schema supplied. Perhaps you meant http:///cb2/wp-content/uploads/sites/9/downloads/pdf/fullboard_2010/june2010_fullboardminutes.pdf?\n",
      "Processing: May 2010 (/cb2/wp-content/uploads/sites/9/downloads/pdf/fullboard_2010/05may2010fullboard.pdf)\n",
      "Error processing May 2010: Invalid URL '/cb2/wp-content/uploads/sites/9/downloads/pdf/fullboard_2010/05may2010fullboard.pdf': No schema supplied. Perhaps you meant http:///cb2/wp-content/uploads/sites/9/downloads/pdf/fullboard_2010/05may2010fullboard.pdf?\n",
      "Processing: April 2010 (/cb2/wp-content/uploads/sites/9/downloads/pdf/fullboard_2010/fullboard0410.pdf)\n",
      "Error processing April 2010: Invalid URL '/cb2/wp-content/uploads/sites/9/downloads/pdf/fullboard_2010/fullboard0410.pdf': No schema supplied. Perhaps you meant http:///cb2/wp-content/uploads/sites/9/downloads/pdf/fullboard_2010/fullboard0410.pdf?\n",
      "Processing: March 2010 (/cb2/wp-content/uploads/sites/9/downloads/pdf/fullboard_2010/march2010fullboard.pdf)\n",
      "Error processing March 2010: Invalid URL '/cb2/wp-content/uploads/sites/9/downloads/pdf/fullboard_2010/march2010fullboard.pdf': No schema supplied. Perhaps you meant http:///cb2/wp-content/uploads/sites/9/downloads/pdf/fullboard_2010/march2010fullboard.pdf?\n",
      "Processing: March 2010 Amendment (/cb2/wp-content/uploads/sites/9/downloads/pdf/fullboard_2010/fullboard0310_amendement.pdf)\n",
      "Error processing March 2010 Amendment: Invalid URL '/cb2/wp-content/uploads/sites/9/downloads/pdf/fullboard_2010/fullboard0310_amendement.pdf': No schema supplied. Perhaps you meant http:///cb2/wp-content/uploads/sites/9/downloads/pdf/fullboard_2010/fullboard0310_amendement.pdf?\n",
      "Processing: February 2010 (/cb2/wp-content/uploads/sites/9/downloads/pdf/fullboard_2010/02february%202010_fullboard.pdf)\n",
      "Error processing February 2010: Invalid URL '/cb2/wp-content/uploads/sites/9/downloads/pdf/fullboard_2010/02february%202010_fullboard.pdf': No schema supplied. Perhaps you meant http:///cb2/wp-content/uploads/sites/9/downloads/pdf/fullboard_2010/02february%202010_fullboard.pdf?\n",
      "Processing: January 2010 (/cb2/wp-content/uploads/sites/9/downloads/pdf/fullboard_2010/full_board0110.pdf)\n",
      "Error processing January 2010: Invalid URL '/cb2/wp-content/uploads/sites/9/downloads/pdf/fullboard_2010/full_board0110.pdf': No schema supplied. Perhaps you meant http:///cb2/wp-content/uploads/sites/9/downloads/pdf/fullboard_2010/full_board0110.pdf?\n",
      "Processing: December 2009 (/cb2/wp-content/uploads/sites/9/downloads/pdf/fullboard_2009/full_board1209.pdf)\n",
      "Error processing December 2009: Invalid URL '/cb2/wp-content/uploads/sites/9/downloads/pdf/fullboard_2009/full_board1209.pdf': No schema supplied. Perhaps you meant http:///cb2/wp-content/uploads/sites/9/downloads/pdf/fullboard_2009/full_board1209.pdf?\n",
      "Processing: November 2009 (/cb2/wp-content/uploads/sites/9/downloads/pdf/fullboard_2009/fullboard1109.pdf)\n",
      "Error processing November 2009: Invalid URL '/cb2/wp-content/uploads/sites/9/downloads/pdf/fullboard_2009/fullboard1109.pdf': No schema supplied. Perhaps you meant http:///cb2/wp-content/uploads/sites/9/downloads/pdf/fullboard_2009/fullboard1109.pdf?\n",
      "Processing: October 2009 (/cb2/wp-content/uploads/sites/9/downloads/pdf/fullboard_2009/october2009fullboard.pdf)\n",
      "Error processing October 2009: Invalid URL '/cb2/wp-content/uploads/sites/9/downloads/pdf/fullboard_2009/october2009fullboard.pdf': No schema supplied. Perhaps you meant http:///cb2/wp-content/uploads/sites/9/downloads/pdf/fullboard_2009/october2009fullboard.pdf?\n",
      "Processing: September 2009 (/cb2/wp-content/uploads/sites/9/downloads/pdf/fullboard_2009/septemberfullboard_2009.pdf)\n",
      "Error processing September 2009: Invalid URL '/cb2/wp-content/uploads/sites/9/downloads/pdf/fullboard_2009/septemberfullboard_2009.pdf': No schema supplied. Perhaps you meant http:///cb2/wp-content/uploads/sites/9/downloads/pdf/fullboard_2009/septemberfullboard_2009.pdf?\n",
      "Processing: July 2009 (/cb2/wp-content/uploads/sites/9/downloads/pdf/fullboard_2009/07july2009.pdf)\n",
      "Error processing July 2009: Invalid URL '/cb2/wp-content/uploads/sites/9/downloads/pdf/fullboard_2009/07july2009.pdf': No schema supplied. Perhaps you meant http:///cb2/wp-content/uploads/sites/9/downloads/pdf/fullboard_2009/07july2009.pdf?\n",
      "Processing: June 2009 (/cb2/wp-content/uploads/sites/9/downloads/pdf/fullboard_2009/06_june_2009.pdf)\n",
      "Error processing June 2009: Invalid URL '/cb2/wp-content/uploads/sites/9/downloads/pdf/fullboard_2009/06_june_2009.pdf': No schema supplied. Perhaps you meant http:///cb2/wp-content/uploads/sites/9/downloads/pdf/fullboard_2009/06_june_2009.pdf?\n",
      "Processing: May 2009 (/cb2/wp-content/uploads/sites/9/downloads/pdf/fullboard_2009/05_may_2009.pdf)\n",
      "Error processing May 2009: Invalid URL '/cb2/wp-content/uploads/sites/9/downloads/pdf/fullboard_2009/05_may_2009.pdf': No schema supplied. Perhaps you meant http:///cb2/wp-content/uploads/sites/9/downloads/pdf/fullboard_2009/05_may_2009.pdf?\n",
      "Processing: April 2009 (/cb2/wp-content/uploads/sites/9/downloads/pdf/fullboard_2009/04_april_2009.pdf)\n",
      "Error processing April 2009: Invalid URL '/cb2/wp-content/uploads/sites/9/downloads/pdf/fullboard_2009/04_april_2009.pdf': No schema supplied. Perhaps you meant http:///cb2/wp-content/uploads/sites/9/downloads/pdf/fullboard_2009/04_april_2009.pdf?\n",
      "Processing: March 2009 (/cb2/wp-content/uploads/sites/9/downloads/pdf/fullboard_2009/03_march_2009.pdf)\n",
      "Error processing March 2009: Invalid URL '/cb2/wp-content/uploads/sites/9/downloads/pdf/fullboard_2009/03_march_2009.pdf': No schema supplied. Perhaps you meant http:///cb2/wp-content/uploads/sites/9/downloads/pdf/fullboard_2009/03_march_2009.pdf?\n",
      "Processing: February 2009 (/cb2/wp-content/uploads/sites/9/downloads/pdf/fullboard_2009/02_february_2009.pdf)\n",
      "Error processing February 2009: Invalid URL '/cb2/wp-content/uploads/sites/9/downloads/pdf/fullboard_2009/02_february_2009.pdf': No schema supplied. Perhaps you meant http:///cb2/wp-content/uploads/sites/9/downloads/pdf/fullboard_2009/02_february_2009.pdf?\n",
      "Processing: January 2009 (/cb2/wp-content/uploads/sites/9/downloads/pdf/fullboard_2009/january2009.pdf)\n",
      "Error processing January 2009: Invalid URL '/cb2/wp-content/uploads/sites/9/downloads/pdf/fullboard_2009/january2009.pdf': No schema supplied. Perhaps you meant http:///cb2/wp-content/uploads/sites/9/downloads/pdf/fullboard_2009/january2009.pdf?\n",
      "Processing: December 2008 (/cb2/wp-content/uploads/sites/9/downloads/pdf/fullboard_2008/12december2008.pdf)\n",
      "Error processing December 2008: Invalid URL '/cb2/wp-content/uploads/sites/9/downloads/pdf/fullboard_2008/12december2008.pdf': No schema supplied. Perhaps you meant http:///cb2/wp-content/uploads/sites/9/downloads/pdf/fullboard_2008/12december2008.pdf?\n",
      "Processing: November 2008 (/cb2/wp-content/uploads/sites/9/downloads/pdf/fullboard_2008/11november2008.pdf)\n",
      "Error processing November 2008: Invalid URL '/cb2/wp-content/uploads/sites/9/downloads/pdf/fullboard_2008/11november2008.pdf': No schema supplied. Perhaps you meant http:///cb2/wp-content/uploads/sites/9/downloads/pdf/fullboard_2008/11november2008.pdf?\n",
      "Processing: October 2008 (/cb2/wp-content/uploads/sites/9/downloads/pdf/fullboard_2008/10october2008.pdf)\n",
      "Error processing October 2008: Invalid URL '/cb2/wp-content/uploads/sites/9/downloads/pdf/fullboard_2008/10october2008.pdf': No schema supplied. Perhaps you meant http:///cb2/wp-content/uploads/sites/9/downloads/pdf/fullboard_2008/10october2008.pdf?\n",
      "Processing: September 2008 (/cb2/wp-content/uploads/sites/9/downloads/pdf/fullboard_2008/09september2008.pdf)\n",
      "Error processing September 2008: Invalid URL '/cb2/wp-content/uploads/sites/9/downloads/pdf/fullboard_2008/09september2008.pdf': No schema supplied. Perhaps you meant http:///cb2/wp-content/uploads/sites/9/downloads/pdf/fullboard_2008/09september2008.pdf?\n",
      "Processing: July 2008 (/cb2/wp-content/uploads/sites/9/downloads/pdf/fullboard_2008/07july2008.pdf)\n",
      "Error processing July 2008: Invalid URL '/cb2/wp-content/uploads/sites/9/downloads/pdf/fullboard_2008/07july2008.pdf': No schema supplied. Perhaps you meant http:///cb2/wp-content/uploads/sites/9/downloads/pdf/fullboard_2008/07july2008.pdf?\n",
      "Processing: June 2008 (/cb2/wp-content/uploads/sites/9/downloads/pdf/fullboard_2008/06june2008.pdf)\n",
      "Error processing June 2008: Invalid URL '/cb2/wp-content/uploads/sites/9/downloads/pdf/fullboard_2008/06june2008.pdf': No schema supplied. Perhaps you meant http:///cb2/wp-content/uploads/sites/9/downloads/pdf/fullboard_2008/06june2008.pdf?\n",
      "Processing: May 2008 (/cb2/wp-content/uploads/sites/9/downloads/pdf/fullboard_2008/05_may_2008.pdf)\n",
      "Error processing May 2008: Invalid URL '/cb2/wp-content/uploads/sites/9/downloads/pdf/fullboard_2008/05_may_2008.pdf': No schema supplied. Perhaps you meant http:///cb2/wp-content/uploads/sites/9/downloads/pdf/fullboard_2008/05_may_2008.pdf?\n",
      "Processing: April 2008 (/cb2/wp-content/uploads/sites/9/downloads/pdf/fullboard_2008/04april2008.pdf)\n",
      "Error processing April 2008: Invalid URL '/cb2/wp-content/uploads/sites/9/downloads/pdf/fullboard_2008/04april2008.pdf': No schema supplied. Perhaps you meant http:///cb2/wp-content/uploads/sites/9/downloads/pdf/fullboard_2008/04april2008.pdf?\n",
      "Processing: March 2008 (/cb2/wp-content/uploads/sites/9/downloads/pdf/fullboard_2008/03march2008.pdf)\n",
      "Error processing March 2008: Invalid URL '/cb2/wp-content/uploads/sites/9/downloads/pdf/fullboard_2008/03march2008.pdf': No schema supplied. Perhaps you meant http:///cb2/wp-content/uploads/sites/9/downloads/pdf/fullboard_2008/03march2008.pdf?\n",
      "Processing: February 2008 (/cb2/wp-content/uploads/sites/9/downloads/pdf/fullboard_2008/02february2008.pdf)\n",
      "Error processing February 2008: Invalid URL '/cb2/wp-content/uploads/sites/9/downloads/pdf/fullboard_2008/02february2008.pdf': No schema supplied. Perhaps you meant http:///cb2/wp-content/uploads/sites/9/downloads/pdf/fullboard_2008/02february2008.pdf?\n",
      "Processing: January 2008 (/cb2/wp-content/uploads/sites/9/downloads/pdf/fullboard_2008/01january2008.pdf)\n",
      "Error processing January 2008: Invalid URL '/cb2/wp-content/uploads/sites/9/downloads/pdf/fullboard_2008/01january2008.pdf': No schema supplied. Perhaps you meant http:///cb2/wp-content/uploads/sites/9/downloads/pdf/fullboard_2008/01january2008.pdf?\n",
      "Processing: December 2007 (/cb2/wp-content/uploads/sites/9/downloads/pdf/fullboard_2007/12december2007.pdf)\n",
      "Error processing December 2007: Invalid URL '/cb2/wp-content/uploads/sites/9/downloads/pdf/fullboard_2007/12december2007.pdf': No schema supplied. Perhaps you meant http:///cb2/wp-content/uploads/sites/9/downloads/pdf/fullboard_2007/12december2007.pdf?\n",
      "Processing: November 2007 (/cb2/wp-content/uploads/sites/9/downloads/pdf/fullboard_2007/11november2007.pdf)\n",
      "Error processing November 2007: Invalid URL '/cb2/wp-content/uploads/sites/9/downloads/pdf/fullboard_2007/11november2007.pdf': No schema supplied. Perhaps you meant http:///cb2/wp-content/uploads/sites/9/downloads/pdf/fullboard_2007/11november2007.pdf?\n",
      "Processing: October 2007 (/cb2/wp-content/uploads/sites/9/downloads/pdf/fullboard_2007/10october2007.pdf)\n",
      "Error processing October 2007: Invalid URL '/cb2/wp-content/uploads/sites/9/downloads/pdf/fullboard_2007/10october2007.pdf': No schema supplied. Perhaps you meant http:///cb2/wp-content/uploads/sites/9/downloads/pdf/fullboard_2007/10october2007.pdf?\n",
      "Processing: September 2007 (/cb2/wp-content/uploads/sites/9/downloads/pdf/fullboard_2007/09september2007.pdf)\n",
      "Error processing September 2007: Invalid URL '/cb2/wp-content/uploads/sites/9/downloads/pdf/fullboard_2007/09september2007.pdf': No schema supplied. Perhaps you meant http:///cb2/wp-content/uploads/sites/9/downloads/pdf/fullboard_2007/09september2007.pdf?\n",
      "Processing: July 2007 (/cb2/wp-content/uploads/sites/9/downloads/pdf/fullboard_2007/07july2007.pdf)\n",
      "Error processing July 2007: Invalid URL '/cb2/wp-content/uploads/sites/9/downloads/pdf/fullboard_2007/07july2007.pdf': No schema supplied. Perhaps you meant http:///cb2/wp-content/uploads/sites/9/downloads/pdf/fullboard_2007/07july2007.pdf?\n",
      "Processing: June 2007 (/cb2/wp-content/uploads/sites/9/downloads/pdf/fullboard_2007/06june2007.pdf)\n",
      "Error processing June 2007: Invalid URL '/cb2/wp-content/uploads/sites/9/downloads/pdf/fullboard_2007/06june2007.pdf': No schema supplied. Perhaps you meant http:///cb2/wp-content/uploads/sites/9/downloads/pdf/fullboard_2007/06june2007.pdf?\n",
      "Processing: May 2007 (/cb2/wp-content/uploads/sites/9/downloads/pdf/fullboard_2007/05may2007.pdf)\n",
      "Error processing May 2007: Invalid URL '/cb2/wp-content/uploads/sites/9/downloads/pdf/fullboard_2007/05may2007.pdf': No schema supplied. Perhaps you meant http:///cb2/wp-content/uploads/sites/9/downloads/pdf/fullboard_2007/05may2007.pdf?\n",
      "Processing: April 2007 (/cb2/wp-content/uploads/sites/9/downloads/pdf/fullboard_2007/04april2007.pdf)\n",
      "Error processing April 2007: Invalid URL '/cb2/wp-content/uploads/sites/9/downloads/pdf/fullboard_2007/04april2007.pdf': No schema supplied. Perhaps you meant http:///cb2/wp-content/uploads/sites/9/downloads/pdf/fullboard_2007/04april2007.pdf?\n",
      "Processing: March 2007 (/cb2/wp-content/uploads/sites/9/downloads/pdf/fullboard_2007/03march2007.pdf)\n",
      "Error processing March 2007: Invalid URL '/cb2/wp-content/uploads/sites/9/downloads/pdf/fullboard_2007/03march2007.pdf': No schema supplied. Perhaps you meant http:///cb2/wp-content/uploads/sites/9/downloads/pdf/fullboard_2007/03march2007.pdf?\n",
      "Processing: February 2007 (/cb2/wp-content/uploads/sites/9/downloads/pdf/fullboard_2007/02february2007.pdf)\n",
      "Error processing February 2007: Invalid URL '/cb2/wp-content/uploads/sites/9/downloads/pdf/fullboard_2007/02february2007.pdf': No schema supplied. Perhaps you meant http:///cb2/wp-content/uploads/sites/9/downloads/pdf/fullboard_2007/02february2007.pdf?\n",
      "Processing: January 2007 (/cb2/wp-content/uploads/sites/9/downloads/pdf/fullboard_2007/01january2007.pdf)\n",
      "Error processing January 2007: Invalid URL '/cb2/wp-content/uploads/sites/9/downloads/pdf/fullboard_2007/01january2007.pdf': No schema supplied. Perhaps you meant http:///cb2/wp-content/uploads/sites/9/downloads/pdf/fullboard_2007/01january2007.pdf?\n",
      "Processing: December 2006 (/cb2/wp-content/uploads/sites/9/downloads/pdf/fullboard_2006/12december2006.pdf)\n",
      "Error processing December 2006: Invalid URL '/cb2/wp-content/uploads/sites/9/downloads/pdf/fullboard_2006/12december2006.pdf': No schema supplied. Perhaps you meant http:///cb2/wp-content/uploads/sites/9/downloads/pdf/fullboard_2006/12december2006.pdf?\n",
      "Processing: November 2006 (/cb2/wp-content/uploads/sites/9/downloads/pdf/fullboard_2006/11november2006.pdf)\n",
      "Error processing November 2006: Invalid URL '/cb2/wp-content/uploads/sites/9/downloads/pdf/fullboard_2006/11november2006.pdf': No schema supplied. Perhaps you meant http:///cb2/wp-content/uploads/sites/9/downloads/pdf/fullboard_2006/11november2006.pdf?\n",
      "Processing: October 2006 (/cb2/wp-content/uploads/sites/9/downloads/pdf/fullboard_2006/10october2006.pdf)\n",
      "Error processing October 2006: Invalid URL '/cb2/wp-content/uploads/sites/9/downloads/pdf/fullboard_2006/10october2006.pdf': No schema supplied. Perhaps you meant http:///cb2/wp-content/uploads/sites/9/downloads/pdf/fullboard_2006/10october2006.pdf?\n",
      "Processing: September 2006 (/cb2/wp-content/uploads/sites/9/downloads/pdf/fullboard_2006/09september2006.pdf)\n",
      "Error processing September 2006: Invalid URL '/cb2/wp-content/uploads/sites/9/downloads/pdf/fullboard_2006/09september2006.pdf': No schema supplied. Perhaps you meant http:///cb2/wp-content/uploads/sites/9/downloads/pdf/fullboard_2006/09september2006.pdf?\n",
      "Processing: July 2006 (/cb2/wp-content/uploads/sites/9/downloads/pdf/fullboard_2006/07july2006.pdf)\n",
      "Error processing July 2006: Invalid URL '/cb2/wp-content/uploads/sites/9/downloads/pdf/fullboard_2006/07july2006.pdf': No schema supplied. Perhaps you meant http:///cb2/wp-content/uploads/sites/9/downloads/pdf/fullboard_2006/07july2006.pdf?\n",
      "Processing: June 2006 (/cb2/wp-content/uploads/sites/9/downloads/pdf/fullboard_2006/06june2006.pdf)\n",
      "Error processing June 2006: Invalid URL '/cb2/wp-content/uploads/sites/9/downloads/pdf/fullboard_2006/06june2006.pdf': No schema supplied. Perhaps you meant http:///cb2/wp-content/uploads/sites/9/downloads/pdf/fullboard_2006/06june2006.pdf?\n",
      "Processing: May 2006 (/cb2/wp-content/uploads/sites/9/downloads/pdf/fullboard_2006/05may2006.pdf)\n",
      "Error processing May 2006: Invalid URL '/cb2/wp-content/uploads/sites/9/downloads/pdf/fullboard_2006/05may2006.pdf': No schema supplied. Perhaps you meant http:///cb2/wp-content/uploads/sites/9/downloads/pdf/fullboard_2006/05may2006.pdf?\n",
      "Processing: April 2006 (/cb2/wp-content/uploads/sites/9/downloads/pdf/fullboard_2006/04april2006.pdf)\n",
      "Error processing April 2006: Invalid URL '/cb2/wp-content/uploads/sites/9/downloads/pdf/fullboard_2006/04april2006.pdf': No schema supplied. Perhaps you meant http:///cb2/wp-content/uploads/sites/9/downloads/pdf/fullboard_2006/04april2006.pdf?\n",
      "Processing: March 2006 (/cb2/wp-content/uploads/sites/9/downloads/pdf/fullboard_2006/03march2006.pdf)\n",
      "Error processing March 2006: Invalid URL '/cb2/wp-content/uploads/sites/9/downloads/pdf/fullboard_2006/03march2006.pdf': No schema supplied. Perhaps you meant http:///cb2/wp-content/uploads/sites/9/downloads/pdf/fullboard_2006/03march2006.pdf?\n",
      "Processing: February 2006 (/cb2/wp-content/uploads/sites/9/downloads/pdf/fullboard_2006/02february2006.pdf)\n",
      "Error processing February 2006: Invalid URL '/cb2/wp-content/uploads/sites/9/downloads/pdf/fullboard_2006/02february2006.pdf': No schema supplied. Perhaps you meant http:///cb2/wp-content/uploads/sites/9/downloads/pdf/fullboard_2006/02february2006.pdf?\n",
      "Processing: January 2006 (/cb2/wp-content/uploads/sites/9/downloads/pdf/fullboard_2006/01january2006.pdf)\n",
      "Error processing January 2006: Invalid URL '/cb2/wp-content/uploads/sites/9/downloads/pdf/fullboard_2006/01january2006.pdf': No schema supplied. Perhaps you meant http:///cb2/wp-content/uploads/sites/9/downloads/pdf/fullboard_2006/01january2006.pdf?\n",
      "Processing: December 2005 (/cb2/wp-content/uploads/sites/9/downloads/pdf/fullboard_2005/12december2005.pdf)\n",
      "Error processing December 2005: Invalid URL '/cb2/wp-content/uploads/sites/9/downloads/pdf/fullboard_2005/12december2005.pdf': No schema supplied. Perhaps you meant http:///cb2/wp-content/uploads/sites/9/downloads/pdf/fullboard_2005/12december2005.pdf?\n",
      "Processing: November 2005 (/cb2/wp-content/uploads/sites/9/downloads/pdf/fullboard_2005/11november2005.pdf)\n",
      "Error processing November 2005: Invalid URL '/cb2/wp-content/uploads/sites/9/downloads/pdf/fullboard_2005/11november2005.pdf': No schema supplied. Perhaps you meant http:///cb2/wp-content/uploads/sites/9/downloads/pdf/fullboard_2005/11november2005.pdf?\n",
      "Processing: October 2005 (/cb2/wp-content/uploads/sites/9/downloads/pdf/fullboard_2005/10october2005.pdf)\n",
      "Error processing October 2005: Invalid URL '/cb2/wp-content/uploads/sites/9/downloads/pdf/fullboard_2005/10october2005.pdf': No schema supplied. Perhaps you meant http:///cb2/wp-content/uploads/sites/9/downloads/pdf/fullboard_2005/10october2005.pdf?\n",
      "Processing: September 2005 (/cb2/wp-content/uploads/sites/9/downloads/pdf/fullboard_2005/09september2005.pdf)\n",
      "Error processing September 2005: Invalid URL '/cb2/wp-content/uploads/sites/9/downloads/pdf/fullboard_2005/09september2005.pdf': No schema supplied. Perhaps you meant http:///cb2/wp-content/uploads/sites/9/downloads/pdf/fullboard_2005/09september2005.pdf?\n",
      "Processing: July 2005 (/cb2/wp-content/uploads/sites/9/downloads/pdf/fullboard_2005/07july2005.pdf)\n",
      "Error processing July 2005: Invalid URL '/cb2/wp-content/uploads/sites/9/downloads/pdf/fullboard_2005/07july2005.pdf': No schema supplied. Perhaps you meant http:///cb2/wp-content/uploads/sites/9/downloads/pdf/fullboard_2005/07july2005.pdf?\n",
      "Processing: June 2005 (/cb2/wp-content/uploads/sites/9/downloads/pdf/fullboard_2005/06june2005.pdf)\n",
      "Error processing June 2005: Invalid URL '/cb2/wp-content/uploads/sites/9/downloads/pdf/fullboard_2005/06june2005.pdf': No schema supplied. Perhaps you meant http:///cb2/wp-content/uploads/sites/9/downloads/pdf/fullboard_2005/06june2005.pdf?\n",
      "Processing: May 2005 (/cb2/wp-content/uploads/sites/9/downloads/pdf/fullboard_2005/05may2005.pdf)\n",
      "Error processing May 2005: Invalid URL '/cb2/wp-content/uploads/sites/9/downloads/pdf/fullboard_2005/05may2005.pdf': No schema supplied. Perhaps you meant http:///cb2/wp-content/uploads/sites/9/downloads/pdf/fullboard_2005/05may2005.pdf?\n",
      "Processing: April 2005 (/cb2/wp-content/uploads/sites/9/downloads/pdf/fullboard_2005/04april2005.pdf)\n",
      "Error processing April 2005: Invalid URL '/cb2/wp-content/uploads/sites/9/downloads/pdf/fullboard_2005/04april2005.pdf': No schema supplied. Perhaps you meant http:///cb2/wp-content/uploads/sites/9/downloads/pdf/fullboard_2005/04april2005.pdf?\n",
      "Processing: March 2005 (/cb2/wp-content/uploads/sites/9/downloads/pdf/fullboard_2005/03march2005.pdf)\n",
      "Error processing March 2005: Invalid URL '/cb2/wp-content/uploads/sites/9/downloads/pdf/fullboard_2005/03march2005.pdf': No schema supplied. Perhaps you meant http:///cb2/wp-content/uploads/sites/9/downloads/pdf/fullboard_2005/03march2005.pdf?\n",
      "Processing: February 2005 (/cb2/wp-content/uploads/sites/9/downloads/pdf/fullboard_2005/02february2005.pdf)\n",
      "Error processing February 2005: Invalid URL '/cb2/wp-content/uploads/sites/9/downloads/pdf/fullboard_2005/02february2005.pdf': No schema supplied. Perhaps you meant http:///cb2/wp-content/uploads/sites/9/downloads/pdf/fullboard_2005/02february2005.pdf?\n",
      "Processing: January 2005 (/cb2/wp-content/uploads/sites/9/downloads/pdf/fullboard_2005/01january2005.pdf)\n",
      "Error processing January 2005: Invalid URL '/cb2/wp-content/uploads/sites/9/downloads/pdf/fullboard_2005/01january2005.pdf': No schema supplied. Perhaps you meant http:///cb2/wp-content/uploads/sites/9/downloads/pdf/fullboard_2005/01january2005.pdf?\n",
      "Processing: December 2004 (/cb2/wp-content/uploads/sites/9/downloads/pdf/fullboard_2004/12december2004.pdf)\n",
      "Error processing December 2004: Invalid URL '/cb2/wp-content/uploads/sites/9/downloads/pdf/fullboard_2004/12december2004.pdf': No schema supplied. Perhaps you meant http:///cb2/wp-content/uploads/sites/9/downloads/pdf/fullboard_2004/12december2004.pdf?\n",
      "Processing: November 2004 (/cb2/wp-content/uploads/sites/9/downloads/pdf/fullboard_2004/11november2004.pdf)\n",
      "Error processing November 2004: Invalid URL '/cb2/wp-content/uploads/sites/9/downloads/pdf/fullboard_2004/11november2004.pdf': No schema supplied. Perhaps you meant http:///cb2/wp-content/uploads/sites/9/downloads/pdf/fullboard_2004/11november2004.pdf?\n",
      "Processing: October 2004 (/cb2/wp-content/uploads/sites/9/downloads/pdf/fullboard_2004/10october2004.pdf)\n",
      "Error processing October 2004: Invalid URL '/cb2/wp-content/uploads/sites/9/downloads/pdf/fullboard_2004/10october2004.pdf': No schema supplied. Perhaps you meant http:///cb2/wp-content/uploads/sites/9/downloads/pdf/fullboard_2004/10october2004.pdf?\n",
      "Processing: September 2004 (/cb2/wp-content/uploads/sites/9/downloads/pdf/fullboard_2004/09 September2004.pdf)\n",
      "Error processing September 2004: Invalid URL '/cb2/wp-content/uploads/sites/9/downloads/pdf/fullboard_2004/09 September2004.pdf': No schema supplied. Perhaps you meant http:///cb2/wp-content/uploads/sites/9/downloads/pdf/fullboard_2004/09 September2004.pdf?\n",
      "Processing: July 2004 (/cb2/wp-content/uploads/sites/9/downloads/pdf/fullboard_2004/07july2004.pdf)\n",
      "Error processing July 2004: Invalid URL '/cb2/wp-content/uploads/sites/9/downloads/pdf/fullboard_2004/07july2004.pdf': No schema supplied. Perhaps you meant http:///cb2/wp-content/uploads/sites/9/downloads/pdf/fullboard_2004/07july2004.pdf?\n",
      "Processing: June 2004 (/cb2/wp-content/uploads/sites/9/downloads/pdf/fullboard_2004/06june2004.pdf)\n",
      "Error processing June 2004: Invalid URL '/cb2/wp-content/uploads/sites/9/downloads/pdf/fullboard_2004/06june2004.pdf': No schema supplied. Perhaps you meant http:///cb2/wp-content/uploads/sites/9/downloads/pdf/fullboard_2004/06june2004.pdf?\n",
      "Processing: May 2004 (/cb2/wp-content/uploads/sites/9/downloads/pdf/fullboard_2004/05may2004.pdf)\n",
      "Error processing May 2004: Invalid URL '/cb2/wp-content/uploads/sites/9/downloads/pdf/fullboard_2004/05may2004.pdf': No schema supplied. Perhaps you meant http:///cb2/wp-content/uploads/sites/9/downloads/pdf/fullboard_2004/05may2004.pdf?\n",
      "Processing: April 2004 (/cb2/wp-content/uploads/sites/9/downloads/pdf/fullboard_2004/04april2004.pdf)\n",
      "Error processing April 2004: Invalid URL '/cb2/wp-content/uploads/sites/9/downloads/pdf/fullboard_2004/04april2004.pdf': No schema supplied. Perhaps you meant http:///cb2/wp-content/uploads/sites/9/downloads/pdf/fullboard_2004/04april2004.pdf?\n",
      "Processing: March 2004 (/cb2/wp-content/uploads/sites/9/downloads/pdf/fullboard_2004/03march2004.pdf)\n",
      "Error processing March 2004: Invalid URL '/cb2/wp-content/uploads/sites/9/downloads/pdf/fullboard_2004/03march2004.pdf': No schema supplied. Perhaps you meant http:///cb2/wp-content/uploads/sites/9/downloads/pdf/fullboard_2004/03march2004.pdf?\n",
      "Processing: February 2004 (/cb2/wp-content/uploads/sites/9/downloads/pdf/fullboard_2004/02february2004.pdf)\n",
      "Error processing February 2004: Invalid URL '/cb2/wp-content/uploads/sites/9/downloads/pdf/fullboard_2004/02february2004.pdf': No schema supplied. Perhaps you meant http:///cb2/wp-content/uploads/sites/9/downloads/pdf/fullboard_2004/02february2004.pdf?\n",
      "Processing: January 2004 (/cb2/wp-content/uploads/sites/9/downloads/pdf/fullboard_2004/01january2004.pdf)\n",
      "Error processing January 2004: Invalid URL '/cb2/wp-content/uploads/sites/9/downloads/pdf/fullboard_2004/01january2004.pdf': No schema supplied. Perhaps you meant http:///cb2/wp-content/uploads/sites/9/downloads/pdf/fullboard_2004/01january2004.pdf?\n",
      "Processing: December 2003 (/cb2/wp-content/uploads/sites/9/downloads/pdf/fullboard_2003/12december2003.pdf)\n",
      "Error processing December 2003: Invalid URL '/cb2/wp-content/uploads/sites/9/downloads/pdf/fullboard_2003/12december2003.pdf': No schema supplied. Perhaps you meant http:///cb2/wp-content/uploads/sites/9/downloads/pdf/fullboard_2003/12december2003.pdf?\n",
      "Processing: November 2003 (/cb2/wp-content/uploads/sites/9/downloads/pdf/fullboard_2003/11november2003.pdf)\n",
      "Error processing November 2003: Invalid URL '/cb2/wp-content/uploads/sites/9/downloads/pdf/fullboard_2003/11november2003.pdf': No schema supplied. Perhaps you meant http:///cb2/wp-content/uploads/sites/9/downloads/pdf/fullboard_2003/11november2003.pdf?\n",
      "Processing: October 2003 (/cb2/wp-content/uploads/sites/9/downloads/pdf/fullboard_2003/10october2003.pdf)\n",
      "Error processing October 2003: Invalid URL '/cb2/wp-content/uploads/sites/9/downloads/pdf/fullboard_2003/10october2003.pdf': No schema supplied. Perhaps you meant http:///cb2/wp-content/uploads/sites/9/downloads/pdf/fullboard_2003/10october2003.pdf?\n",
      "Processing: September 2003 (/cb2/wp-content/uploads/sites/9/downloads/pdf/fullboard_2003/09september2003.pdf)\n",
      "Error processing September 2003: Invalid URL '/cb2/wp-content/uploads/sites/9/downloads/pdf/fullboard_2003/09september2003.pdf': No schema supplied. Perhaps you meant http:///cb2/wp-content/uploads/sites/9/downloads/pdf/fullboard_2003/09september2003.pdf?\n",
      "Processing: July 2003 (/cb2/wp-content/uploads/sites/9/downloads/pdf/fullboard_2003/07july2003.pdf)\n",
      "Error processing July 2003: Invalid URL '/cb2/wp-content/uploads/sites/9/downloads/pdf/fullboard_2003/07july2003.pdf': No schema supplied. Perhaps you meant http:///cb2/wp-content/uploads/sites/9/downloads/pdf/fullboard_2003/07july2003.pdf?\n",
      "Processing: June 2003 (/cb2/wp-content/uploads/sites/9/downloads/pdf/fullboard_2003/06june2003.pdf)\n",
      "Error processing June 2003: Invalid URL '/cb2/wp-content/uploads/sites/9/downloads/pdf/fullboard_2003/06june2003.pdf': No schema supplied. Perhaps you meant http:///cb2/wp-content/uploads/sites/9/downloads/pdf/fullboard_2003/06june2003.pdf?\n",
      "Processing: May 2003 (/cb2/wp-content/uploads/sites/9/downloads/pdf/fullboard_2003/05may2003.pdf)\n",
      "Error processing May 2003: Invalid URL '/cb2/wp-content/uploads/sites/9/downloads/pdf/fullboard_2003/05may2003.pdf': No schema supplied. Perhaps you meant http:///cb2/wp-content/uploads/sites/9/downloads/pdf/fullboard_2003/05may2003.pdf?\n",
      "Processing: April 2003 (/cb2/wp-content/uploads/sites/9/downloads/pdf/fullboard_2003/04april2003.pdf)\n",
      "Error processing April 2003: Invalid URL '/cb2/wp-content/uploads/sites/9/downloads/pdf/fullboard_2003/04april2003.pdf': No schema supplied. Perhaps you meant http:///cb2/wp-content/uploads/sites/9/downloads/pdf/fullboard_2003/04april2003.pdf?\n",
      "Processing: March 2003 (/cb2/wp-content/uploads/sites/9/downloads/pdf/fullboard_2003/03march2003.pdf)\n",
      "Error processing March 2003: Invalid URL '/cb2/wp-content/uploads/sites/9/downloads/pdf/fullboard_2003/03march2003.pdf': No schema supplied. Perhaps you meant http:///cb2/wp-content/uploads/sites/9/downloads/pdf/fullboard_2003/03march2003.pdf?\n",
      "Processing: February 2003 (/cb2/wp-content/uploads/sites/9/downloads/pdf/fullboard_2003/02february2003.pdf)\n",
      "Error processing February 2003: Invalid URL '/cb2/wp-content/uploads/sites/9/downloads/pdf/fullboard_2003/02february2003.pdf': No schema supplied. Perhaps you meant http:///cb2/wp-content/uploads/sites/9/downloads/pdf/fullboard_2003/02february2003.pdf?\n",
      "Processing: January 2003 (/cb2/wp-content/uploads/sites/9/downloads/pdf/fullboard_2003/01january2003.pdf)\n",
      "Error processing January 2003: Invalid URL '/cb2/wp-content/uploads/sites/9/downloads/pdf/fullboard_2003/01january2003.pdf': No schema supplied. Perhaps you meant http:///cb2/wp-content/uploads/sites/9/downloads/pdf/fullboard_2003/01january2003.pdf?\n",
      "Processing: December 2002 (/cb2/wp-content/uploads/sites/9/downloads/pdf/fullboard_2002/12december2002.pdf)\n",
      "Error processing December 2002: Invalid URL '/cb2/wp-content/uploads/sites/9/downloads/pdf/fullboard_2002/12december2002.pdf': No schema supplied. Perhaps you meant http:///cb2/wp-content/uploads/sites/9/downloads/pdf/fullboard_2002/12december2002.pdf?\n",
      "Processing: November 2002 (/cb2/wp-content/uploads/sites/9/downloads/pdf/fullboard_2002/11november2002.pdf)\n",
      "Error processing November 2002: Invalid URL '/cb2/wp-content/uploads/sites/9/downloads/pdf/fullboard_2002/11november2002.pdf': No schema supplied. Perhaps you meant http:///cb2/wp-content/uploads/sites/9/downloads/pdf/fullboard_2002/11november2002.pdf?\n",
      "Processing: October 2002 (/cb2/wp-content/uploads/sites/9/downloads/pdf/fullboard_2002/10october2002.pdf)\n",
      "Error processing October 2002: Invalid URL '/cb2/wp-content/uploads/sites/9/downloads/pdf/fullboard_2002/10october2002.pdf': No schema supplied. Perhaps you meant http:///cb2/wp-content/uploads/sites/9/downloads/pdf/fullboard_2002/10october2002.pdf?\n",
      "Processing: September 2002 (/cb2/wp-content/uploads/sites/9/downloads/pdf/fullboard_2002/09september2002.pdf)\n",
      "Error processing September 2002: Invalid URL '/cb2/wp-content/uploads/sites/9/downloads/pdf/fullboard_2002/09september2002.pdf': No schema supplied. Perhaps you meant http:///cb2/wp-content/uploads/sites/9/downloads/pdf/fullboard_2002/09september2002.pdf?\n",
      "Processing: July 2002 (/cb2/wp-content/uploads/sites/9/downloads/pdf/fullboard_2002/07july2002.pdf)\n",
      "Error processing July 2002: Invalid URL '/cb2/wp-content/uploads/sites/9/downloads/pdf/fullboard_2002/07july2002.pdf': No schema supplied. Perhaps you meant http:///cb2/wp-content/uploads/sites/9/downloads/pdf/fullboard_2002/07july2002.pdf?\n",
      "Processing: June 2002 (/cb2/wp-content/uploads/sites/9/downloads/pdf/fullboard_2002/06june2002.pdf)\n",
      "Error processing June 2002: Invalid URL '/cb2/wp-content/uploads/sites/9/downloads/pdf/fullboard_2002/06june2002.pdf': No schema supplied. Perhaps you meant http:///cb2/wp-content/uploads/sites/9/downloads/pdf/fullboard_2002/06june2002.pdf?\n",
      "Processing: May 2002 (/cb2/wp-content/uploads/sites/9/downloads/pdf/fullboard_2002/05may2002.pdf)\n",
      "Error processing May 2002: Invalid URL '/cb2/wp-content/uploads/sites/9/downloads/pdf/fullboard_2002/05may2002.pdf': No schema supplied. Perhaps you meant http:///cb2/wp-content/uploads/sites/9/downloads/pdf/fullboard_2002/05may2002.pdf?\n",
      "Processing: April 2002 (/cb2/wp-content/uploads/sites/9/downloads/pdf/fullboard_2002/04april2002.pdf)\n",
      "Error processing April 2002: Invalid URL '/cb2/wp-content/uploads/sites/9/downloads/pdf/fullboard_2002/04april2002.pdf': No schema supplied. Perhaps you meant http:///cb2/wp-content/uploads/sites/9/downloads/pdf/fullboard_2002/04april2002.pdf?\n",
      "Processing: March 2002 (/cb2/wp-content/uploads/sites/9/downloads/pdf/fullboard_2002/03march2002.pdf)\n",
      "Error processing March 2002: Invalid URL '/cb2/wp-content/uploads/sites/9/downloads/pdf/fullboard_2002/03march2002.pdf': No schema supplied. Perhaps you meant http:///cb2/wp-content/uploads/sites/9/downloads/pdf/fullboard_2002/03march2002.pdf?\n",
      "Processing: February 2002 (/cb2/wp-content/uploads/sites/9/downloads/pdf/fullboard_2002/02february2002.pdf)\n",
      "Error processing February 2002: Invalid URL '/cb2/wp-content/uploads/sites/9/downloads/pdf/fullboard_2002/02february2002.pdf': No schema supplied. Perhaps you meant http:///cb2/wp-content/uploads/sites/9/downloads/pdf/fullboard_2002/02february2002.pdf?\n",
      "Processing: January 2002 (/cb2/wp-content/uploads/sites/9/downloads/pdf/fullboard_2002/01january2002.pdf)\n",
      "Error processing January 2002: Invalid URL '/cb2/wp-content/uploads/sites/9/downloads/pdf/fullboard_2002/01january2002.pdf': No schema supplied. Perhaps you meant http:///cb2/wp-content/uploads/sites/9/downloads/pdf/fullboard_2002/01january2002.pdf?\n",
      "Processing: December 2001 (/cb2/wp-content/uploads/sites/9/downloads/pdf/fullboard_2001/12december2001.pdf)\n",
      "Error processing December 2001: Invalid URL '/cb2/wp-content/uploads/sites/9/downloads/pdf/fullboard_2001/12december2001.pdf': No schema supplied. Perhaps you meant http:///cb2/wp-content/uploads/sites/9/downloads/pdf/fullboard_2001/12december2001.pdf?\n",
      "Processing: November 2001 (/cb2/wp-content/uploads/sites/9/downloads/pdf/fullboard_2001/11november2001.pdf)\n",
      "Error processing November 2001: Invalid URL '/cb2/wp-content/uploads/sites/9/downloads/pdf/fullboard_2001/11november2001.pdf': No schema supplied. Perhaps you meant http:///cb2/wp-content/uploads/sites/9/downloads/pdf/fullboard_2001/11november2001.pdf?\n",
      "Processing: October 2001 (/cb2/wp-content/uploads/sites/9/downloads/pdf/fullboard_2001/10october2001.pdf)\n",
      "Error processing October 2001: Invalid URL '/cb2/wp-content/uploads/sites/9/downloads/pdf/fullboard_2001/10october2001.pdf': No schema supplied. Perhaps you meant http:///cb2/wp-content/uploads/sites/9/downloads/pdf/fullboard_2001/10october2001.pdf?\n",
      "Processing: September 2001 (/cb2/wp-content/uploads/sites/9/downloads/pdf/fullboard_2001/09september2001.pdf)\n",
      "Error processing September 2001: Invalid URL '/cb2/wp-content/uploads/sites/9/downloads/pdf/fullboard_2001/09september2001.pdf': No schema supplied. Perhaps you meant http:///cb2/wp-content/uploads/sites/9/downloads/pdf/fullboard_2001/09september2001.pdf?\n",
      "Processing: August 2001 (/cb2/wp-content/uploads/sites/9/downloads/pdf/fullboard_2001/08augustspecialexecutive2001.pdf)\n",
      "Error processing August 2001: Invalid URL '/cb2/wp-content/uploads/sites/9/downloads/pdf/fullboard_2001/08augustspecialexecutive2001.pdf': No schema supplied. Perhaps you meant http:///cb2/wp-content/uploads/sites/9/downloads/pdf/fullboard_2001/08augustspecialexecutive2001.pdf?\n",
      "Processing: July 2001 (/cb2/wp-content/uploads/sites/9/downloads/pdf/fullboard_2001/07july2001.pdf)\n",
      "Error processing July 2001: Invalid URL '/cb2/wp-content/uploads/sites/9/downloads/pdf/fullboard_2001/07july2001.pdf': No schema supplied. Perhaps you meant http:///cb2/wp-content/uploads/sites/9/downloads/pdf/fullboard_2001/07july2001.pdf?\n",
      "Processing: June 2001 (/cb2/wp-content/uploads/sites/9/downloads/pdf/fullboard_2001/06june2001.pdf)\n",
      "Error processing June 2001: Invalid URL '/cb2/wp-content/uploads/sites/9/downloads/pdf/fullboard_2001/06june2001.pdf': No schema supplied. Perhaps you meant http:///cb2/wp-content/uploads/sites/9/downloads/pdf/fullboard_2001/06june2001.pdf?\n",
      "Processing: May 2001 (/cb2/wp-content/uploads/sites/9/downloads/pdf/fullboard_2001/05may2001.pdf)\n",
      "Error processing May 2001: Invalid URL '/cb2/wp-content/uploads/sites/9/downloads/pdf/fullboard_2001/05may2001.pdf': No schema supplied. Perhaps you meant http:///cb2/wp-content/uploads/sites/9/downloads/pdf/fullboard_2001/05may2001.pdf?\n",
      "Processing: April 2001 (/cb2/wp-content/uploads/sites/9/downloads/pdf/fullboard_2001/04april2001.pdf)\n",
      "Error processing April 2001: Invalid URL '/cb2/wp-content/uploads/sites/9/downloads/pdf/fullboard_2001/04april2001.pdf': No schema supplied. Perhaps you meant http:///cb2/wp-content/uploads/sites/9/downloads/pdf/fullboard_2001/04april2001.pdf?\n",
      "Processing: March 2001 (/cb2/wp-content/uploads/sites/9/downloads/pdf/fullboard_2001/03march2001.pdf)\n",
      "Error processing March 2001: Invalid URL '/cb2/wp-content/uploads/sites/9/downloads/pdf/fullboard_2001/03march2001.pdf': No schema supplied. Perhaps you meant http:///cb2/wp-content/uploads/sites/9/downloads/pdf/fullboard_2001/03march2001.pdf?\n",
      "Processing: February 2001 (/cb2/wp-content/uploads/sites/9/downloads/pdf/fullboard_2001/02february2001.pdf)\n",
      "Error processing February 2001: Invalid URL '/cb2/wp-content/uploads/sites/9/downloads/pdf/fullboard_2001/02february2001.pdf': No schema supplied. Perhaps you meant http:///cb2/wp-content/uploads/sites/9/downloads/pdf/fullboard_2001/02february2001.pdf?\n",
      "Processing: January 2001 (/cb2/wp-content/uploads/sites/9/downloads/pdf/fullboard_2001/01january2001.pdf)\n",
      "Error processing January 2001: Invalid URL '/cb2/wp-content/uploads/sites/9/downloads/pdf/fullboard_2001/01january2001.pdf': No schema supplied. Perhaps you meant http:///cb2/wp-content/uploads/sites/9/downloads/pdf/fullboard_2001/01january2001.pdf?\n",
      "Processing: December 2000 (/cb2/wp-content/uploads/sites/9/downloads/pdf/fullboard_2000/12december2000.pdf)\n",
      "Error processing December 2000: Invalid URL '/cb2/wp-content/uploads/sites/9/downloads/pdf/fullboard_2000/12december2000.pdf': No schema supplied. Perhaps you meant http:///cb2/wp-content/uploads/sites/9/downloads/pdf/fullboard_2000/12december2000.pdf?\n",
      "Processing: November 2000 (/cb2/wp-content/uploads/sites/9/downloads/pdf/fullboard_2000/11november2000.pdf)\n",
      "Error processing November 2000: Invalid URL '/cb2/wp-content/uploads/sites/9/downloads/pdf/fullboard_2000/11november2000.pdf': No schema supplied. Perhaps you meant http:///cb2/wp-content/uploads/sites/9/downloads/pdf/fullboard_2000/11november2000.pdf?\n",
      "Processing: October 2000 (/cb2/wp-content/uploads/sites/9/downloads/pdf/fullboard_2000/10october2000.pdf)\n",
      "Error processing October 2000: Invalid URL '/cb2/wp-content/uploads/sites/9/downloads/pdf/fullboard_2000/10october2000.pdf': No schema supplied. Perhaps you meant http:///cb2/wp-content/uploads/sites/9/downloads/pdf/fullboard_2000/10october2000.pdf?\n",
      "Processing: September 2000 (/cb2/wp-content/uploads/sites/9/downloads/pdf/fullboard_2000/09september2000.pdf)\n",
      "Error processing September 2000: Invalid URL '/cb2/wp-content/uploads/sites/9/downloads/pdf/fullboard_2000/09september2000.pdf': No schema supplied. Perhaps you meant http:///cb2/wp-content/uploads/sites/9/downloads/pdf/fullboard_2000/09september2000.pdf?\n",
      "Processing: August 2000 (/cb2/wp-content/uploads/sites/9/downloads/pdf/fullboard_2000/08August2000.pdf)\n",
      "Error processing August 2000: Invalid URL '/cb2/wp-content/uploads/sites/9/downloads/pdf/fullboard_2000/08August2000.pdf': No schema supplied. Perhaps you meant http:///cb2/wp-content/uploads/sites/9/downloads/pdf/fullboard_2000/08August2000.pdf?\n",
      "Processing: July 2000 (/cb2/wp-content/uploads/sites/9/downloads/pdf/fullboard_2000/07July2000.pdf)\n",
      "Error processing July 2000: Invalid URL '/cb2/wp-content/uploads/sites/9/downloads/pdf/fullboard_2000/07July2000.pdf': No schema supplied. Perhaps you meant http:///cb2/wp-content/uploads/sites/9/downloads/pdf/fullboard_2000/07July2000.pdf?\n",
      "Processing: June 2000 (/cb2/wp-content/uploads/sites/9/downloads/pdf/fullboard_2000/06June2000.pdf)\n",
      "Error processing June 2000: Invalid URL '/cb2/wp-content/uploads/sites/9/downloads/pdf/fullboard_2000/06June2000.pdf': No schema supplied. Perhaps you meant http:///cb2/wp-content/uploads/sites/9/downloads/pdf/fullboard_2000/06June2000.pdf?\n",
      "Processing: May 2000 (/cb2/wp-content/uploads/sites/9/downloads/pdf/fullboard_2000/05May2000.pdf)\n",
      "Error processing May 2000: Invalid URL '/cb2/wp-content/uploads/sites/9/downloads/pdf/fullboard_2000/05May2000.pdf': No schema supplied. Perhaps you meant http:///cb2/wp-content/uploads/sites/9/downloads/pdf/fullboard_2000/05May2000.pdf?\n",
      "Processing: April 2000 (/cb2/wp-content/uploads/sites/9/downloads/pdf/fullboard_2000/04April2000.pdf)\n",
      "Error processing April 2000: Invalid URL '/cb2/wp-content/uploads/sites/9/downloads/pdf/fullboard_2000/04April2000.pdf': No schema supplied. Perhaps you meant http:///cb2/wp-content/uploads/sites/9/downloads/pdf/fullboard_2000/04April2000.pdf?\n",
      "Processing: March 2000 (/cb2/wp-content/uploads/sites/9/downloads/pdf/fullboard_2000/03march2000.pdf)\n",
      "Error processing March 2000: Invalid URL '/cb2/wp-content/uploads/sites/9/downloads/pdf/fullboard_2000/03march2000.pdf': No schema supplied. Perhaps you meant http:///cb2/wp-content/uploads/sites/9/downloads/pdf/fullboard_2000/03march2000.pdf?\n",
      "Processing: February 2000 (/cb2/wp-content/uploads/sites/9/downloads/pdf/fullboard_2000/02february2000.pdf)\n",
      "Error processing February 2000: Invalid URL '/cb2/wp-content/uploads/sites/9/downloads/pdf/fullboard_2000/02february2000.pdf': No schema supplied. Perhaps you meant http:///cb2/wp-content/uploads/sites/9/downloads/pdf/fullboard_2000/02february2000.pdf?\n",
      "Processing: January 2000 (/cb2/wp-content/uploads/sites/9/downloads/pdf/fullboard_2000/01january2000.pdf)\n",
      "Error processing January 2000: Invalid URL '/cb2/wp-content/uploads/sites/9/downloads/pdf/fullboard_2000/01january2000.pdf': No schema supplied. Perhaps you meant http:///cb2/wp-content/uploads/sites/9/downloads/pdf/fullboard_2000/01january2000.pdf?\n",
      "Processing: December 1999 (/cb2/wp-content/uploads/sites/9/downloads/pdf/fullboard_1999/12december1999.pdf)\n",
      "Error processing December 1999: Invalid URL '/cb2/wp-content/uploads/sites/9/downloads/pdf/fullboard_1999/12december1999.pdf': No schema supplied. Perhaps you meant http:///cb2/wp-content/uploads/sites/9/downloads/pdf/fullboard_1999/12december1999.pdf?\n",
      "Processing: November 1999 (/cb2/wp-content/uploads/sites/9/downloads/pdf/fullboard_1999/11november1999.pdf)\n",
      "Error processing November 1999: Invalid URL '/cb2/wp-content/uploads/sites/9/downloads/pdf/fullboard_1999/11november1999.pdf': No schema supplied. Perhaps you meant http:///cb2/wp-content/uploads/sites/9/downloads/pdf/fullboard_1999/11november1999.pdf?\n",
      "Processing: October 1999 (/cb2/wp-content/uploads/sites/9/downloads/pdf/fullboard_1999/10october1999.pdf)\n",
      "Error processing October 1999: Invalid URL '/cb2/wp-content/uploads/sites/9/downloads/pdf/fullboard_1999/10october1999.pdf': No schema supplied. Perhaps you meant http:///cb2/wp-content/uploads/sites/9/downloads/pdf/fullboard_1999/10october1999.pdf?\n",
      "Processing: September 1999 (/cb2/wp-content/uploads/sites/9/downloads/pdf/fullboard_1999/09september1999.pdf)\n",
      "Error processing September 1999: Invalid URL '/cb2/wp-content/uploads/sites/9/downloads/pdf/fullboard_1999/09september1999.pdf': No schema supplied. Perhaps you meant http:///cb2/wp-content/uploads/sites/9/downloads/pdf/fullboard_1999/09september1999.pdf?\n",
      "Processing: August 1999 (/cb2/wp-content/uploads/sites/9/downloads/pdf/fullboard_1999/08execminutesaug1999.pdf)\n",
      "Error processing August 1999: Invalid URL '/cb2/wp-content/uploads/sites/9/downloads/pdf/fullboard_1999/08execminutesaug1999.pdf': No schema supplied. Perhaps you meant http:///cb2/wp-content/uploads/sites/9/downloads/pdf/fullboard_1999/08execminutesaug1999.pdf?\n",
      "Processing: July 1999 (/cb2/wp-content/uploads/sites/9/downloads/pdf/fullboard_1999/07july1999.pdf)\n",
      "Error processing July 1999: Invalid URL '/cb2/wp-content/uploads/sites/9/downloads/pdf/fullboard_1999/07july1999.pdf': No schema supplied. Perhaps you meant http:///cb2/wp-content/uploads/sites/9/downloads/pdf/fullboard_1999/07july1999.pdf?\n",
      "Processing: June 1999 (/cb2/wp-content/uploads/sites/9/downloads/pdf/fullboard_1999/06june1999.pdf)\n",
      "Error processing June 1999: Invalid URL '/cb2/wp-content/uploads/sites/9/downloads/pdf/fullboard_1999/06june1999.pdf': No schema supplied. Perhaps you meant http:///cb2/wp-content/uploads/sites/9/downloads/pdf/fullboard_1999/06june1999.pdf?\n",
      "Processing: May 1999 (/cb2/wp-content/uploads/sites/9/downloads/pdf/fullboard_1999/05may1999.pdf)\n",
      "Error processing May 1999: Invalid URL '/cb2/wp-content/uploads/sites/9/downloads/pdf/fullboard_1999/05may1999.pdf': No schema supplied. Perhaps you meant http:///cb2/wp-content/uploads/sites/9/downloads/pdf/fullboard_1999/05may1999.pdf?\n",
      "Processing: April 1999 (/cb2/wp-content/uploads/sites/9/downloads/pdf/fullboard_1999/04april1999.pdf)\n",
      "Error processing April 1999: Invalid URL '/cb2/wp-content/uploads/sites/9/downloads/pdf/fullboard_1999/04april1999.pdf': No schema supplied. Perhaps you meant http:///cb2/wp-content/uploads/sites/9/downloads/pdf/fullboard_1999/04april1999.pdf?\n",
      "Processing: March 1999 (/cb2/wp-content/uploads/sites/9/downloads/pdf/fullboard_1999/03March1999.pdf)\n",
      "Error processing March 1999: Invalid URL '/cb2/wp-content/uploads/sites/9/downloads/pdf/fullboard_1999/03March1999.pdf': No schema supplied. Perhaps you meant http:///cb2/wp-content/uploads/sites/9/downloads/pdf/fullboard_1999/03March1999.pdf?\n",
      "Processing: February 1999 (/cb2/wp-content/uploads/sites/9/downloads/pdf/fullboard_1999/02february1999.pdf)\n",
      "Error processing February 1999: Invalid URL '/cb2/wp-content/uploads/sites/9/downloads/pdf/fullboard_1999/02february1999.pdf': No schema supplied. Perhaps you meant http:///cb2/wp-content/uploads/sites/9/downloads/pdf/fullboard_1999/02february1999.pdf?\n",
      "Processing: January 1999 (/cb2/wp-content/uploads/sites/9/downloads/pdf/fullboard_1999/01january1999.pdf)\n",
      "Error processing January 1999: Invalid URL '/cb2/wp-content/uploads/sites/9/downloads/pdf/fullboard_1999/01january1999.pdf': No schema supplied. Perhaps you meant http:///cb2/wp-content/uploads/sites/9/downloads/pdf/fullboard_1999/01january1999.pdf?\n",
      "Processing: January & February 1998 (/cb2/wp-content/uploads/sites/9/downloads/pdf/fullboard_1998/fullboard_january_february1998_1.pdf)\n",
      "Error processing January & February 1998: Invalid URL '/cb2/wp-content/uploads/sites/9/downloads/pdf/fullboard_1998/fullboard_january_february1998_1.pdf': No schema supplied. Perhaps you meant http:///cb2/wp-content/uploads/sites/9/downloads/pdf/fullboard_1998/fullboard_january_february1998_1.pdf?\n",
      "Processing complete. Check 'Manhattan_CB2.csv' and 'failed_files.log'\n"
     ]
    }
   ],
   "source": [
    "import os\n",
    "import requests\n",
    "import pandas as pd\n",
    "import pdfplumber\n",
    "import ocrmypdf\n",
    "import time\n",
    "from PyPDF2 import PdfReader\n",
    "\n",
    "# Load the DataFrame\n",
    "input_file = \"/Users/chivo/Downloads/Foundations/HW/auto_update_web/Manhattan_CB2/Manhattan_CB2.csv\"\n",
    "df = pd.read_csv(input_file)\n",
    "\n",
    "# Folders to store downloaded and processed PDFs\n",
    "folder_name = \"Manhattan_CB2_PDFs\"\n",
    "processed_folder = \"Manhattan_CB2_PDFs_Processed\"\n",
    "os.makedirs(folder_name, exist_ok=True)\n",
    "os.makedirs(processed_folder, exist_ok=True)\n",
    "\n",
    "# Initialize a list to store content\n",
    "content_list = []\n",
    "failed_files = []\n",
    "\n",
    "# Iterate over each row in the DataFrame\n",
    "for index, row in df.iterrows():\n",
    "    url = row['URL']\n",
    "    date = row['Date']\n",
    "\n",
    "    try:\n",
    "        print(f\"Processing: {date} ({url})\")\n",
    "        file_name = os.path.basename(url)\n",
    "        file_path = os.path.join(folder_name, file_name)\n",
    "        processed_file_path = os.path.join(processed_folder, file_name)\n",
    "\n",
    "        # Skip downloading if the file already exists\n",
    "        if not os.path.exists(file_path):\n",
    "            response = requests.get(url)\n",
    "            with open(file_path, 'wb') as pdf_file:\n",
    "                pdf_file.write(response.content)\n",
    "            print(f\"Downloaded: {file_path}\")\n",
    "        else:\n",
    "            print(f\"File already exists: {file_path}\")\n",
    "\n",
    "        # Add a delay to prevent scraping too quickly\n",
    "        time.sleep(2)\n",
    "\n",
    "        # Skip OCR if processed file already exists\n",
    "        if os.path.exists(processed_file_path):\n",
    "            print(f\"OCR-processed file already exists: {processed_file_path}\")\n",
    "            reader = PdfReader(processed_file_path)\n",
    "            pdf_text = \"\".join(page.extract_text() or \"\" for page in reader.pages)\n",
    "        else:\n",
    "            # Extract text using pdfplumber\n",
    "            pdf_text = \"\"\n",
    "            try:\n",
    "                with pdfplumber.open(file_path) as pdf:\n",
    "                    for page in pdf.pages:\n",
    "                        pdf_text += page.extract_text() or \"\"\n",
    "            except Exception as e:\n",
    "                print(f\"pdfplumber failed for {file_name}: {e}\")\n",
    "                pdf_text = \"\"\n",
    "\n",
    "            # If pdfplumber fails or no text is extracted, use OCR\n",
    "            if not pdf_text.strip():\n",
    "                print(f\"Falling back to OCR for {file_name}\")\n",
    "                try:\n",
    "                    # Apply OCR to the PDF\n",
    "                    ocrmypdf.ocr(file_path, processed_file_path, deskew=True, force_ocr=True)\n",
    "                    \n",
    "                    # Extract text from the OCR-processed PDF\n",
    "                    reader = PdfReader(processed_file_path)\n",
    "                    pdf_text = \"\".join(page.extract_text() or \"\" for page in reader.pages)\n",
    "\n",
    "                    # If OCR also fails, log the file\n",
    "                    if not pdf_text.strip():\n",
    "                        raise ValueError(\"OCR failed to extract text\")\n",
    "                except Exception as ocr_error:\n",
    "                    print(f\"OCR failed for {file_name}: {ocr_error}\")\n",
    "                    failed_files.append(file_name)\n",
    "                    pdf_text = \"Manual review required\"\n",
    "\n",
    "        content_list.append(pdf_text.strip())\n",
    "\n",
    "    except Exception as e:\n",
    "        print(f\"Error processing {date}: {e}\")\n",
    "        content_list.append(\"Error extracting content\")\n",
    "        failed_files.append(file_name)\n",
    "\n",
    "# Add the content as a new column in the DataFrame\n",
    "df['Content'] = content_list\n",
    "df.to_csv(\"Manhattan_CB2.csv\", index=False)\n",
    "\n",
    "# Save failed files for manual review\n",
    "with open(\"failed_files.log\", \"w\") as log_file:\n",
    "    log_file.write(\"\\n\".join(failed_files))\n",
    "\n",
    "print(\"Processing complete. Check 'Manhattan_CB2.csv' and 'failed_files.log'\")\n"
   ]
  },
  {
   "cell_type": "markdown",
   "metadata": {},
   "source": [
    "# Print PDF "
   ]
  },
  {
   "cell_type": "markdown",
   "metadata": {},
   "source": [
    "I used this link from Soma's website [here](https://jonathansoma.com/everything/pdfs/ocr-tools/) "
   ]
  },
  {
   "cell_type": "code",
   "execution_count": 5,
   "metadata": {},
   "outputs": [
    {
     "name": "stdout",
     "output_type": "stream",
     "text": [
      "Index(['Date', 'URL', 'Content'], dtype='object')\n"
     ]
    }
   ],
   "source": [
    "import pandas as pd\n",
    "\n",
    "csv_path = \"/Users/chivo/Downloads/Foundations/HW/auto_update_web/Manhattan_CB1_with_content.csv\"\n",
    "data = pd.read_csv(csv_path)\n",
    "\n",
    "print(data.columns)"
   ]
  },
  {
   "cell_type": "code",
   "execution_count": null,
   "metadata": {},
   "outputs": [],
   "source": []
  }
 ],
 "metadata": {
  "kernelspec": {
   "display_name": "Python 3 (ipykernel)",
   "language": "python",
   "name": "python3"
  },
  "language_info": {
   "codemirror_mode": {
    "name": "ipython",
    "version": 3
   },
   "file_extension": ".py",
   "mimetype": "text/x-python",
   "name": "python",
   "nbconvert_exporter": "python",
   "pygments_lexer": "ipython3",
   "version": "3.10.12"
  }
 },
 "nbformat": 4,
 "nbformat_minor": 4
}
