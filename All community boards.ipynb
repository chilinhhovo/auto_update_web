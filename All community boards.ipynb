{
 "cells": [
  {
   "cell_type": "markdown",
   "metadata": {},
   "source": [
    "# Community full board scrapper \n",
    "\n",
    "All community boards have separate sites for their minutes \n",
    "\n",
    "> I watched Soma's youtube tutorial https://www.youtube.com/watch?v=QNKxzkNpsko\n"
   ]
  },
  {
   "cell_type": "markdown",
   "metadata": {},
   "source": [
    "I chatted with Soma, and he said he imagined each community board to have one scrapper, and it's better to have a minimum viable product since it looks more impressive on your CV than attempting and learning something even if it fails. "
   ]
  },
  {
   "cell_type": "markdown",
   "metadata": {},
   "source": [
    "# Brooklyn: \n",
    "Community Board 1: https://www.nyc.gov/site/manhattancb1/archives/monthly-full-board-meeting-minutes.page\n",
    "Community Board 2: https://cbmanhattan.cityofnewyork.us/cb2/minutes/\n",
    "Community Board 3\n",
    "Community Board 4\n",
    "Community Board 5\n",
    "Community Board 6\n",
    "Community Board 7\n",
    "Community Board 8\n",
    "Community Board 9\n",
    "Community Board 10\n",
    "Community Board 11\n",
    "Community Board 12\n",
    "Community Board 13\n",
    "Community Board 14\n",
    "Community Board 15\n",
    "Community Board 16\n",
    "Community Board 17\n",
    "Community Board 17\n",
    "\n",
    "# Bronx: \n",
    "Community Board 1\n",
    "Community Board 2\n",
    "Community Board 3\n",
    "Community Board 4\n",
    "Community Board 5\n",
    "Community Board 6\n",
    "Community Board 7\n",
    "Community Board 8\n",
    "Community Board 9\n",
    "Community Board 10\n",
    "Community Board 11\n",
    "Community Board 12\n",
    "\n",
    "# Manhattan: \n",
    "Community Board 1\n",
    "Community Board 2\n",
    "Community Board 3\n",
    "Community Board 4\n",
    "Community Board 5\n",
    "Community Board 6\n",
    "Community Board 7\n",
    "Community Board 8\n",
    "Community Board 9\n",
    "Community Board 10\n",
    "Community Board 11\n",
    "Community Board 12\n",
    "\n",
    "\n",
    "# Queens: \n",
    "Community Board 1\n",
    "Community Board 2\n",
    "Community Board 3\n",
    "Community Board 4\n",
    "Community Board 5\n",
    "Community Board 6\n",
    "Community Board 7\n",
    "Community Board 8\n",
    "Community Board 9\n",
    "Community Board 10\n",
    "Community Board 11\n",
    "Community Board 14\n",
    "\n",
    "# Staten Island: \n",
    "Community Board 1\n",
    "Community Board 2\n",
    "Community Board 3"
   ]
  }
 ],
 "metadata": {
  "kernelspec": {
   "display_name": "Python 3 (ipykernel)",
   "language": "python",
   "name": "python3"
  },
  "language_info": {
   "codemirror_mode": {
    "name": "ipython",
    "version": 3
   },
   "file_extension": ".py",
   "mimetype": "text/x-python",
   "name": "python",
   "nbconvert_exporter": "python",
   "pygments_lexer": "ipython3",
   "version": "3.10.12"
  }
 },
 "nbformat": 4,
 "nbformat_minor": 4
}
